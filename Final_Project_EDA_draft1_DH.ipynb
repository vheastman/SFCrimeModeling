{
 "cells": [
  {
   "cell_type": "code",
   "execution_count": 171,
   "metadata": {},
   "outputs": [],
   "source": [
    "%matplotlib inline\n",
    "\n",
    "# General libraries.\n",
    "import pandas as pd\n",
    "import numpy as np\n",
    "import matplotlib.pyplot as plt\n",
    "\n",
    "# SK-learn libraries for learning.\n",
    "from sklearn.pipeline import Pipeline\n",
    "from sklearn.naive_bayes import MultinomialNB\n",
    "from sklearn.linear_model import LogisticRegression\n",
    "from sklearn.neighbors import KNeighborsClassifier\n",
    "from sklearn.model_selection import train_test_split\n",
    "from sklearn.preprocessing import OneHotEncoder\n",
    "from sklearn.preprocessing import LabelEncoder\n",
    "from sklearn.grid_search import GridSearchCV\n",
    "\n",
    "# SK-learn libraries for evaluation.\n",
    "from sklearn.metrics import confusion_matrix\n",
    "from sklearn import metrics\n",
    "from sklearn.metrics import classification_report"
   ]
  },
  {
   "cell_type": "code",
   "execution_count": 150,
   "metadata": {},
   "outputs": [
    {
     "data": {
      "text/html": [
       "<div>\n",
       "<style scoped>\n",
       "    .dataframe tbody tr th:only-of-type {\n",
       "        vertical-align: middle;\n",
       "    }\n",
       "\n",
       "    .dataframe tbody tr th {\n",
       "        vertical-align: top;\n",
       "    }\n",
       "\n",
       "    .dataframe thead th {\n",
       "        text-align: right;\n",
       "    }\n",
       "</style>\n",
       "<table border=\"1\" class=\"dataframe\">\n",
       "  <thead>\n",
       "    <tr style=\"text-align: right;\">\n",
       "      <th></th>\n",
       "      <th>Dates</th>\n",
       "      <th>Category</th>\n",
       "      <th>Descript</th>\n",
       "      <th>DayOfWeek</th>\n",
       "      <th>PdDistrict</th>\n",
       "      <th>Resolution</th>\n",
       "      <th>Address</th>\n",
       "      <th>X</th>\n",
       "      <th>Y</th>\n",
       "    </tr>\n",
       "  </thead>\n",
       "  <tbody>\n",
       "    <tr>\n",
       "      <th>0</th>\n",
       "      <td>2015-05-13 23:53:00</td>\n",
       "      <td>WARRANTS</td>\n",
       "      <td>WARRANT ARREST</td>\n",
       "      <td>Wednesday</td>\n",
       "      <td>NORTHERN</td>\n",
       "      <td>ARREST, BOOKED</td>\n",
       "      <td>OAK ST / LAGUNA ST</td>\n",
       "      <td>-122.425892</td>\n",
       "      <td>37.774599</td>\n",
       "    </tr>\n",
       "    <tr>\n",
       "      <th>1</th>\n",
       "      <td>2015-05-13 23:53:00</td>\n",
       "      <td>OTHER OFFENSES</td>\n",
       "      <td>TRAFFIC VIOLATION ARREST</td>\n",
       "      <td>Wednesday</td>\n",
       "      <td>NORTHERN</td>\n",
       "      <td>ARREST, BOOKED</td>\n",
       "      <td>OAK ST / LAGUNA ST</td>\n",
       "      <td>-122.425892</td>\n",
       "      <td>37.774599</td>\n",
       "    </tr>\n",
       "    <tr>\n",
       "      <th>2</th>\n",
       "      <td>2015-05-13 23:33:00</td>\n",
       "      <td>OTHER OFFENSES</td>\n",
       "      <td>TRAFFIC VIOLATION ARREST</td>\n",
       "      <td>Wednesday</td>\n",
       "      <td>NORTHERN</td>\n",
       "      <td>ARREST, BOOKED</td>\n",
       "      <td>VANNESS AV / GREENWICH ST</td>\n",
       "      <td>-122.424363</td>\n",
       "      <td>37.800414</td>\n",
       "    </tr>\n",
       "    <tr>\n",
       "      <th>3</th>\n",
       "      <td>2015-05-13 23:30:00</td>\n",
       "      <td>LARCENY/THEFT</td>\n",
       "      <td>GRAND THEFT FROM LOCKED AUTO</td>\n",
       "      <td>Wednesday</td>\n",
       "      <td>NORTHERN</td>\n",
       "      <td>NONE</td>\n",
       "      <td>1500 Block of LOMBARD ST</td>\n",
       "      <td>-122.426995</td>\n",
       "      <td>37.800873</td>\n",
       "    </tr>\n",
       "    <tr>\n",
       "      <th>4</th>\n",
       "      <td>2015-05-13 23:30:00</td>\n",
       "      <td>LARCENY/THEFT</td>\n",
       "      <td>GRAND THEFT FROM LOCKED AUTO</td>\n",
       "      <td>Wednesday</td>\n",
       "      <td>PARK</td>\n",
       "      <td>NONE</td>\n",
       "      <td>100 Block of BRODERICK ST</td>\n",
       "      <td>-122.438738</td>\n",
       "      <td>37.771541</td>\n",
       "    </tr>\n",
       "  </tbody>\n",
       "</table>\n",
       "</div>"
      ],
      "text/plain": [
       "                Dates        Category                      Descript  \\\n",
       "0 2015-05-13 23:53:00        WARRANTS                WARRANT ARREST   \n",
       "1 2015-05-13 23:53:00  OTHER OFFENSES      TRAFFIC VIOLATION ARREST   \n",
       "2 2015-05-13 23:33:00  OTHER OFFENSES      TRAFFIC VIOLATION ARREST   \n",
       "3 2015-05-13 23:30:00   LARCENY/THEFT  GRAND THEFT FROM LOCKED AUTO   \n",
       "4 2015-05-13 23:30:00   LARCENY/THEFT  GRAND THEFT FROM LOCKED AUTO   \n",
       "\n",
       "   DayOfWeek PdDistrict      Resolution                    Address  \\\n",
       "0  Wednesday   NORTHERN  ARREST, BOOKED         OAK ST / LAGUNA ST   \n",
       "1  Wednesday   NORTHERN  ARREST, BOOKED         OAK ST / LAGUNA ST   \n",
       "2  Wednesday   NORTHERN  ARREST, BOOKED  VANNESS AV / GREENWICH ST   \n",
       "3  Wednesday   NORTHERN            NONE   1500 Block of LOMBARD ST   \n",
       "4  Wednesday       PARK            NONE  100 Block of BRODERICK ST   \n",
       "\n",
       "            X          Y  \n",
       "0 -122.425892  37.774599  \n",
       "1 -122.425892  37.774599  \n",
       "2 -122.424363  37.800414  \n",
       "3 -122.426995  37.800873  \n",
       "4 -122.438738  37.771541  "
      ]
     },
     "execution_count": 150,
     "metadata": {},
     "output_type": "execute_result"
    }
   ],
   "source": [
    "df = pd.read_csv('train.csv', parse_dates=[0])\n",
    "df.head()"
   ]
  },
  {
   "cell_type": "code",
   "execution_count": 151,
   "metadata": {},
   "outputs": [],
   "source": [
    "df = df.drop(['Descript', 'Resolution'], axis=1)"
   ]
  },
  {
   "cell_type": "code",
   "execution_count": 152,
   "metadata": {},
   "outputs": [
    {
     "data": {
      "text/plain": [
       "dtype('<M8[ns]')"
      ]
     },
     "execution_count": 152,
     "metadata": {},
     "output_type": "execute_result"
    }
   ],
   "source": [
    "df.Dates.dtypes"
   ]
  },
  {
   "cell_type": "code",
   "execution_count": 153,
   "metadata": {},
   "outputs": [
    {
     "name": "stdout",
     "output_type": "stream",
     "text": [
      "count            878049\n",
      "unique               39\n",
      "top       LARCENY/THEFT\n",
      "freq             174900\n",
      "Name: Category, dtype: object \n",
      "\n",
      "LARCENY/THEFT                  174900\n",
      "OTHER OFFENSES                 126182\n",
      "NON-CRIMINAL                    92304\n",
      "ASSAULT                         76876\n",
      "DRUG/NARCOTIC                   53971\n",
      "VEHICLE THEFT                   53781\n",
      "VANDALISM                       44725\n",
      "WARRANTS                        42214\n",
      "BURGLARY                        36755\n",
      "SUSPICIOUS OCC                  31414\n",
      "MISSING PERSON                  25989\n",
      "ROBBERY                         23000\n",
      "FRAUD                           16679\n",
      "FORGERY/COUNTERFEITING          10609\n",
      "SECONDARY CODES                  9985\n",
      "WEAPON LAWS                      8555\n",
      "PROSTITUTION                     7484\n",
      "TRESPASS                         7326\n",
      "STOLEN PROPERTY                  4540\n",
      "SEX OFFENSES FORCIBLE            4388\n",
      "DISORDERLY CONDUCT               4320\n",
      "DRUNKENNESS                      4280\n",
      "RECOVERED VEHICLE                3138\n",
      "KIDNAPPING                       2341\n",
      "DRIVING UNDER THE INFLUENCE      2268\n",
      "RUNAWAY                          1946\n",
      "LIQUOR LAWS                      1903\n",
      "ARSON                            1513\n",
      "LOITERING                        1225\n",
      "EMBEZZLEMENT                     1166\n",
      "SUICIDE                           508\n",
      "FAMILY OFFENSES                   491\n",
      "BAD CHECKS                        406\n",
      "BRIBERY                           289\n",
      "EXTORTION                         256\n",
      "SEX OFFENSES NON FORCIBLE         148\n",
      "GAMBLING                          146\n",
      "PORNOGRAPHY/OBSCENE MAT            22\n",
      "TREA                                6\n",
      "Name: Category, dtype: int64\n"
     ]
    }
   ],
   "source": [
    "print (df.Category.describe(), '\\n')\n",
    "print (df.Category.value_counts())"
   ]
  },
  {
   "cell_type": "code",
   "execution_count": 154,
   "metadata": {},
   "outputs": [
    {
     "data": {
      "text/plain": [
       "SOUTHERN      157182\n",
       "MISSION       119908\n",
       "NORTHERN      105296\n",
       "BAYVIEW        89431\n",
       "CENTRAL        85460\n",
       "TENDERLOIN     81809\n",
       "INGLESIDE      78845\n",
       "TARAVAL        65596\n",
       "PARK           49313\n",
       "RICHMOND       45209\n",
       "Name: PdDistrict, dtype: int64"
      ]
     },
     "execution_count": 154,
     "metadata": {},
     "output_type": "execute_result"
    }
   ],
   "source": [
    "df.PdDistrict.value_counts()"
   ]
  },
  {
   "cell_type": "code",
   "execution_count": 155,
   "metadata": {},
   "outputs": [
    {
     "data": {
      "text/plain": [
       "878049"
      ]
     },
     "execution_count": 155,
     "metadata": {},
     "output_type": "execute_result"
    }
   ],
   "source": [
    "df.PdDistrict.count()"
   ]
  },
  {
   "cell_type": "code",
   "execution_count": 156,
   "metadata": {},
   "outputs": [
    {
     "data": {
      "text/plain": [
       "800 Block of BRYANT ST            26533\n",
       "800 Block of MARKET ST             6581\n",
       "2000 Block of MISSION ST           5097\n",
       "1000 Block of POTRERO AV           4063\n",
       "900 Block of MARKET ST             3251\n",
       "0 Block of TURK ST                 3228\n",
       "0 Block of 6TH ST                  2884\n",
       "300 Block of ELLIS ST              2703\n",
       "400 Block of ELLIS ST              2590\n",
       "16TH ST / MISSION ST               2504\n",
       "1000 Block of MARKET ST            2489\n",
       "1100 Block of MARKET ST            2319\n",
       "2000 Block of MARKET ST            2168\n",
       "100 Block of OFARRELL ST           2140\n",
       "700 Block of MARKET ST             2081\n",
       "3200 Block of 20TH AV              2035\n",
       "100 Block of 6TH ST                1887\n",
       "500 Block of JOHNFKENNEDY DR       1824\n",
       "TURK ST / TAYLOR ST                1810\n",
       "200 Block of TURK ST               1800\n",
       "0 Block of PHELAN AV               1791\n",
       "0 Block of UNITEDNATIONS PZ        1789\n",
       "0 Block of POWELL ST               1717\n",
       "100 Block of EDDY ST               1681\n",
       "1400 Block of PHELPS ST            1629\n",
       "300 Block of EDDY ST               1589\n",
       "100 Block of GOLDEN GATE AV        1353\n",
       "100 Block of POWELL ST             1333\n",
       "200 Block of INTERSTATE80 HY       1316\n",
       "MISSION ST / 16TH ST               1300\n",
       "                                  ...  \n",
       "BRAZIL AV / PERSIA AV                 1\n",
       "GREEN ST / RENO PL                    1\n",
       "CLARENDON AV / DELLBROOK AV           1\n",
       "CASTRO ST / DAY ST                    1\n",
       "GUTTENBERG ST / NADELL CT             1\n",
       "100 Block of COMMERCIAL ST            1\n",
       "0 Block of TROY AL                    1\n",
       "800 Block of 23RD ST                  1\n",
       "300 Block of CRESTA VISTA DR          1\n",
       "EDINBURGH ST / SILVER AV              1\n",
       "DELONG ST / HEAD ST                   1\n",
       "DIAMOND HEIGHTS BL / SUSSEX ST        1\n",
       "VALLEJO ST / SCOTT ST                 1\n",
       "ADMIRAL AV / CAMELLIA AV              1\n",
       "JACKSON ST / TRENTON ST               1\n",
       "ARROYO WY / MARIETTA DR               1\n",
       "KENNY AL / MISSION ST                 1\n",
       "VICENTE ST / GREAT HWY                1\n",
       "REDROCK WY / DUNCAN ST                1\n",
       "WAWONA ST / 34TH AV                   1\n",
       "EDGEWOOD AV / BELMONT AV              1\n",
       "JOICE ST / CALIFORNIA ST              1\n",
       "APPLETON AV / GLADYS ST               1\n",
       "CRESTLAKE DR / PALOS PL               1\n",
       "ARAGO ST / PAULDING ST                1\n",
       "SONORA LN / TERRAVISTA AV             1\n",
       "WILMOT ST / STEINER ST                1\n",
       "0 Block of ISADORA DUNCAN PL          1\n",
       "COLLINS ST / EUCLID AV                1\n",
       "DIAMOND ST / CONRAD ST                1\n",
       "Name: Address, Length: 23228, dtype: int64"
      ]
     },
     "execution_count": 156,
     "metadata": {},
     "output_type": "execute_result"
    }
   ],
   "source": [
    "df.Address.value_counts()"
   ]
  },
  {
   "cell_type": "code",
   "execution_count": 157,
   "metadata": {},
   "outputs": [
    {
     "data": {
      "text/plain": [
       "LARCENY/THEFT                  6144\n",
       "NON-CRIMINAL                   5583\n",
       "OTHER OFFENSES                 3019\n",
       "ASSAULT                        1926\n",
       "WARRANTS                       1719\n",
       "VANDALISM                      1155\n",
       "SUSPICIOUS OCC                 1153\n",
       "FRAUD                           942\n",
       "DRUG/NARCOTIC                   787\n",
       "MISSING PERSON                  777\n",
       "FORGERY/COUNTERFEITING          614\n",
       "ROBBERY                         591\n",
       "BURGLARY                        384\n",
       "SECONDARY CODES                 312\n",
       "SEX OFFENSES FORCIBLE           296\n",
       "WEAPON LAWS                     156\n",
       "TRESPASS                        150\n",
       "VEHICLE THEFT                   128\n",
       "DRUNKENNESS                     100\n",
       "KIDNAPPING                       97\n",
       "STOLEN PROPERTY                  93\n",
       "DISORDERLY CONDUCT               76\n",
       "PROSTITUTION                     55\n",
       "DRIVING UNDER THE INFLUENCE      41\n",
       "ARSON                            41\n",
       "RUNAWAY                          36\n",
       "LIQUOR LAWS                      29\n",
       "EMBEZZLEMENT                     26\n",
       "SUICIDE                          16\n",
       "LOITERING                        15\n",
       "EXTORTION                        13\n",
       "BRIBERY                          12\n",
       "BAD CHECKS                       12\n",
       "SEX OFFENSES NON FORCIBLE        12\n",
       "RECOVERED VEHICLE                 9\n",
       "FAMILY OFFENSES                   9\n",
       "GAMBLING                          4\n",
       "PORNOGRAPHY/OBSCENE MAT           1\n",
       "Name: Category, dtype: int64"
      ]
     },
     "execution_count": 157,
     "metadata": {},
     "output_type": "execute_result"
    }
   ],
   "source": [
    "dfnew = df[df.Address == '800 Block of BRYANT ST']\n",
    "dfnew.Category.value_counts()"
   ]
  },
  {
   "cell_type": "code",
   "execution_count": 195,
   "metadata": {},
   "outputs": [
    {
     "data": {
      "text/plain": [
       "count    878049.000000\n",
       "mean       -122.422616\n",
       "std           0.030354\n",
       "min        -122.513642\n",
       "25%        -122.432952\n",
       "50%        -122.416420\n",
       "75%        -122.406959\n",
       "max        -120.500000\n",
       "Name: X, dtype: float64"
      ]
     },
     "execution_count": 195,
     "metadata": {},
     "output_type": "execute_result"
    }
   ],
   "source": [
    "df.X.describe()"
   ]
  },
  {
   "cell_type": "code",
   "execution_count": 202,
   "metadata": {},
   "outputs": [],
   "source": [
    "df['DOW'] = df.Dates.dt.weekday"
   ]
  },
  {
   "cell_type": "code",
   "execution_count": 203,
   "metadata": {},
   "outputs": [],
   "source": [
    "df['DOM'] = df.Dates.dt.day"
   ]
  },
  {
   "cell_type": "code",
   "execution_count": 204,
   "metadata": {},
   "outputs": [],
   "source": [
    "df['MONTH'] = df.Dates.dt.month"
   ]
  },
  {
   "cell_type": "code",
   "execution_count": 205,
   "metadata": {},
   "outputs": [],
   "source": [
    "df['Hour'] = df.Dates.dt.hour"
   ]
  },
  {
   "cell_type": "code",
   "execution_count": 206,
   "metadata": {},
   "outputs": [
    {
     "data": {
      "text/html": [
       "<div>\n",
       "<style scoped>\n",
       "    .dataframe tbody tr th:only-of-type {\n",
       "        vertical-align: middle;\n",
       "    }\n",
       "\n",
       "    .dataframe tbody tr th {\n",
       "        vertical-align: top;\n",
       "    }\n",
       "\n",
       "    .dataframe thead th {\n",
       "        text-align: right;\n",
       "    }\n",
       "</style>\n",
       "<table border=\"1\" class=\"dataframe\">\n",
       "  <thead>\n",
       "    <tr style=\"text-align: right;\">\n",
       "      <th></th>\n",
       "      <th>Dates</th>\n",
       "      <th>Category</th>\n",
       "      <th>DayOfWeek</th>\n",
       "      <th>PdDistrict</th>\n",
       "      <th>Address</th>\n",
       "      <th>X</th>\n",
       "      <th>Y</th>\n",
       "      <th>DOW</th>\n",
       "      <th>DOM</th>\n",
       "      <th>MONTH</th>\n",
       "      <th>Hour</th>\n",
       "    </tr>\n",
       "  </thead>\n",
       "  <tbody>\n",
       "    <tr>\n",
       "      <th>0</th>\n",
       "      <td>2015-05-13 23:53:00</td>\n",
       "      <td>WARRANTS</td>\n",
       "      <td>Wednesday</td>\n",
       "      <td>NORTHERN</td>\n",
       "      <td>OAK ST / LAGUNA ST</td>\n",
       "      <td>-122.425892</td>\n",
       "      <td>37.774599</td>\n",
       "      <td>2</td>\n",
       "      <td>13</td>\n",
       "      <td>5</td>\n",
       "      <td>23</td>\n",
       "    </tr>\n",
       "    <tr>\n",
       "      <th>1</th>\n",
       "      <td>2015-05-13 23:53:00</td>\n",
       "      <td>OTHER OFFENSES</td>\n",
       "      <td>Wednesday</td>\n",
       "      <td>NORTHERN</td>\n",
       "      <td>OAK ST / LAGUNA ST</td>\n",
       "      <td>-122.425892</td>\n",
       "      <td>37.774599</td>\n",
       "      <td>2</td>\n",
       "      <td>13</td>\n",
       "      <td>5</td>\n",
       "      <td>23</td>\n",
       "    </tr>\n",
       "    <tr>\n",
       "      <th>2</th>\n",
       "      <td>2015-05-13 23:33:00</td>\n",
       "      <td>OTHER OFFENSES</td>\n",
       "      <td>Wednesday</td>\n",
       "      <td>NORTHERN</td>\n",
       "      <td>VANNESS AV / GREENWICH ST</td>\n",
       "      <td>-122.424363</td>\n",
       "      <td>37.800414</td>\n",
       "      <td>2</td>\n",
       "      <td>13</td>\n",
       "      <td>5</td>\n",
       "      <td>23</td>\n",
       "    </tr>\n",
       "    <tr>\n",
       "      <th>3</th>\n",
       "      <td>2015-05-13 23:30:00</td>\n",
       "      <td>LARCENY/THEFT</td>\n",
       "      <td>Wednesday</td>\n",
       "      <td>NORTHERN</td>\n",
       "      <td>1500 Block of LOMBARD ST</td>\n",
       "      <td>-122.426995</td>\n",
       "      <td>37.800873</td>\n",
       "      <td>2</td>\n",
       "      <td>13</td>\n",
       "      <td>5</td>\n",
       "      <td>23</td>\n",
       "    </tr>\n",
       "    <tr>\n",
       "      <th>4</th>\n",
       "      <td>2015-05-13 23:30:00</td>\n",
       "      <td>LARCENY/THEFT</td>\n",
       "      <td>Wednesday</td>\n",
       "      <td>PARK</td>\n",
       "      <td>100 Block of BRODERICK ST</td>\n",
       "      <td>-122.438738</td>\n",
       "      <td>37.771541</td>\n",
       "      <td>2</td>\n",
       "      <td>13</td>\n",
       "      <td>5</td>\n",
       "      <td>23</td>\n",
       "    </tr>\n",
       "  </tbody>\n",
       "</table>\n",
       "</div>"
      ],
      "text/plain": [
       "                Dates        Category  DayOfWeek PdDistrict  \\\n",
       "0 2015-05-13 23:53:00        WARRANTS  Wednesday   NORTHERN   \n",
       "1 2015-05-13 23:53:00  OTHER OFFENSES  Wednesday   NORTHERN   \n",
       "2 2015-05-13 23:33:00  OTHER OFFENSES  Wednesday   NORTHERN   \n",
       "3 2015-05-13 23:30:00   LARCENY/THEFT  Wednesday   NORTHERN   \n",
       "4 2015-05-13 23:30:00   LARCENY/THEFT  Wednesday       PARK   \n",
       "\n",
       "                     Address           X          Y  DOW  DOM  MONTH  Hour  \n",
       "0         OAK ST / LAGUNA ST -122.425892  37.774599    2   13      5    23  \n",
       "1         OAK ST / LAGUNA ST -122.425892  37.774599    2   13      5    23  \n",
       "2  VANNESS AV / GREENWICH ST -122.424363  37.800414    2   13      5    23  \n",
       "3   1500 Block of LOMBARD ST -122.426995  37.800873    2   13      5    23  \n",
       "4  100 Block of BRODERICK ST -122.438738  37.771541    2   13      5    23  "
      ]
     },
     "execution_count": 206,
     "metadata": {},
     "output_type": "execute_result"
    }
   ],
   "source": [
    "df.head()"
   ]
  },
  {
   "cell_type": "code",
   "execution_count": 208,
   "metadata": {},
   "outputs": [],
   "source": [
    "df_abbrev_train = df[['PdDistrict', 'DOM', 'DOW', 'MONTH', 'Hour']]"
   ]
  },
  {
   "cell_type": "code",
   "execution_count": 209,
   "metadata": {},
   "outputs": [],
   "source": [
    "df_label = df.Category"
   ]
  },
  {
   "cell_type": "code",
   "execution_count": 210,
   "metadata": {},
   "outputs": [
    {
     "data": {
      "text/html": [
       "<div>\n",
       "<style scoped>\n",
       "    .dataframe tbody tr th:only-of-type {\n",
       "        vertical-align: middle;\n",
       "    }\n",
       "\n",
       "    .dataframe tbody tr th {\n",
       "        vertical-align: top;\n",
       "    }\n",
       "\n",
       "    .dataframe thead th {\n",
       "        text-align: right;\n",
       "    }\n",
       "</style>\n",
       "<table border=\"1\" class=\"dataframe\">\n",
       "  <thead>\n",
       "    <tr style=\"text-align: right;\">\n",
       "      <th></th>\n",
       "      <th>PdDistrict</th>\n",
       "      <th>DOM</th>\n",
       "      <th>DOW</th>\n",
       "      <th>MONTH</th>\n",
       "      <th>Hour</th>\n",
       "    </tr>\n",
       "  </thead>\n",
       "  <tbody>\n",
       "    <tr>\n",
       "      <th>0</th>\n",
       "      <td>NORTHERN</td>\n",
       "      <td>13</td>\n",
       "      <td>2</td>\n",
       "      <td>5</td>\n",
       "      <td>23</td>\n",
       "    </tr>\n",
       "    <tr>\n",
       "      <th>1</th>\n",
       "      <td>NORTHERN</td>\n",
       "      <td>13</td>\n",
       "      <td>2</td>\n",
       "      <td>5</td>\n",
       "      <td>23</td>\n",
       "    </tr>\n",
       "    <tr>\n",
       "      <th>2</th>\n",
       "      <td>NORTHERN</td>\n",
       "      <td>13</td>\n",
       "      <td>2</td>\n",
       "      <td>5</td>\n",
       "      <td>23</td>\n",
       "    </tr>\n",
       "    <tr>\n",
       "      <th>3</th>\n",
       "      <td>NORTHERN</td>\n",
       "      <td>13</td>\n",
       "      <td>2</td>\n",
       "      <td>5</td>\n",
       "      <td>23</td>\n",
       "    </tr>\n",
       "    <tr>\n",
       "      <th>4</th>\n",
       "      <td>PARK</td>\n",
       "      <td>13</td>\n",
       "      <td>2</td>\n",
       "      <td>5</td>\n",
       "      <td>23</td>\n",
       "    </tr>\n",
       "  </tbody>\n",
       "</table>\n",
       "</div>"
      ],
      "text/plain": [
       "  PdDistrict  DOM  DOW  MONTH  Hour\n",
       "0   NORTHERN   13    2      5    23\n",
       "1   NORTHERN   13    2      5    23\n",
       "2   NORTHERN   13    2      5    23\n",
       "3   NORTHERN   13    2      5    23\n",
       "4       PARK   13    2      5    23"
      ]
     },
     "execution_count": 210,
     "metadata": {},
     "output_type": "execute_result"
    }
   ],
   "source": [
    "df_abbrev_train.head()"
   ]
  },
  {
   "cell_type": "code",
   "execution_count": 211,
   "metadata": {},
   "outputs": [],
   "source": [
    "df_PdD = pd.get_dummies(df.PdDistrict)\n",
    "df_DOM = pd.get_dummies(df.DOM, prefix = 'DofM')\n",
    "df_DOW = pd.get_dummies(df.DOW, prefix = 'DofW')\n",
    "df_MONTH = pd.get_dummies(df.MONTH, prefix = 'Month')\n",
    "df_Hour = pd.get_dummies(df.Hour, prefix = 'Hour')"
   ]
  },
  {
   "cell_type": "code",
   "execution_count": 212,
   "metadata": {},
   "outputs": [
    {
     "data": {
      "text/plain": [
       "(878049, 84)"
      ]
     },
     "execution_count": 212,
     "metadata": {},
     "output_type": "execute_result"
    }
   ],
   "source": [
    "newdf = pd.concat([df_PdD, df_DOM], axis = 1)\n",
    "newdf = pd.concat([newdf, df_DOW], axis = 1)\n",
    "newdf = pd.concat([newdf, df_MONTH], axis = 1)\n",
    "newdf = pd.concat([newdf, df_Hour], axis = 1)\n",
    "newdf.head()\n",
    "newdf.shape"
   ]
  },
  {
   "cell_type": "code",
   "execution_count": 213,
   "metadata": {},
   "outputs": [],
   "source": [
    "X_train, X_dev, y_train, y_dev = train_test_split(newdf, df_label, test_size = 0.2, random_state= 42)"
   ]
  },
  {
   "cell_type": "code",
   "execution_count": 214,
   "metadata": {},
   "outputs": [
    {
     "name": "stdout",
     "output_type": "stream",
     "text": [
      "(702439, 84)\n",
      "(175610, 84)\n"
     ]
    }
   ],
   "source": [
    "print (X_train.shape)\n",
    "print (X_dev.shape)"
   ]
  },
  {
   "cell_type": "code",
   "execution_count": 215,
   "metadata": {},
   "outputs": [
    {
     "name": "stdout",
     "output_type": "stream",
     "text": [
      "(702439,)\n",
      "(175610,)\n"
     ]
    }
   ],
   "source": [
    "print (y_train.shape)\n",
    "print (y_dev.shape)"
   ]
  },
  {
   "cell_type": "code",
   "execution_count": 219,
   "metadata": {},
   "outputs": [
    {
     "data": {
      "text/plain": [
       "array(['DRUG/NARCOTIC', 'LARCENY/THEFT', 'LARCENY/THEFT', ...,\n",
       "       'LARCENY/THEFT', 'OTHER OFFENSES', 'DRUG/NARCOTIC'], dtype=object)"
      ]
     },
     "execution_count": 219,
     "metadata": {},
     "output_type": "execute_result"
    }
   ],
   "source": [
    "lr = LogisticRegression( )\n",
    "lr.fit(X_train, y_train)\n",
    "lr.predict(X_dev)"
   ]
  },
  {
   "cell_type": "code",
   "execution_count": 220,
   "metadata": {},
   "outputs": [
    {
     "name": "stdout",
     "output_type": "stream",
     "text": [
      "['DRUG/NARCOTIC' 'LARCENY/THEFT' 'LARCENY/THEFT' 'LARCENY/THEFT'\n",
      " 'LARCENY/THEFT'] 349598     LARCENY/THEFT\n",
      "766313           ASSAULT\n",
      "169887    OTHER OFFENSES\n",
      "594704       WEAPON LAWS\n",
      "47900      LARCENY/THEFT\n",
      "Name: Category, dtype: object\n"
     ]
    }
   ],
   "source": [
    "print( lr.predict(X_dev)[0:5] , y_dev[0:5])\n"
   ]
  },
  {
   "cell_type": "code",
   "execution_count": 221,
   "metadata": {},
   "outputs": [
    {
     "name": "stdout",
     "output_type": "stream",
     "text": [
      "0.22399066112408178\n"
     ]
    }
   ],
   "source": [
    "print (metrics.accuracy_score(y_dev, lr.predict(X_dev)))"
   ]
  },
  {
   "cell_type": "code",
   "execution_count": 216,
   "metadata": {},
   "outputs": [
    {
     "data": {
      "text/plain": [
       "MultinomialNB(alpha=2, class_prior=None, fit_prior=True)"
      ]
     },
     "execution_count": 216,
     "metadata": {},
     "output_type": "execute_result"
    }
   ],
   "source": [
    "# train using MultinomialNB\n",
    "nb1 = MultinomialNB(alpha=2)\n",
    "nb1.fit(X_train, y_train)"
   ]
  },
  {
   "cell_type": "code",
   "execution_count": 217,
   "metadata": {},
   "outputs": [],
   "source": [
    "y_pred = nb1.predict(X_dev)"
   ]
  },
  {
   "cell_type": "code",
   "execution_count": 218,
   "metadata": {},
   "outputs": [
    {
     "name": "stdout",
     "output_type": "stream",
     "text": [
      "['DRUG/NARCOTIC' 'LARCENY/THEFT' 'LARCENY/THEFT' 'LARCENY/THEFT'\n",
      " 'LARCENY/THEFT'] 349598     LARCENY/THEFT\n",
      "766313           ASSAULT\n",
      "169887    OTHER OFFENSES\n",
      "594704       WEAPON LAWS\n",
      "47900      LARCENY/THEFT\n",
      "Name: Category, dtype: object\n",
      "0.22430954957007004\n"
     ]
    }
   ],
   "source": [
    "nb1.predict_proba(X_dev)[0]\n",
    "print( nb1.predict(X_dev)[0:5] , y_dev[0:5])\n",
    "\n",
    "print (metrics.accuracy_score(y_dev, y_pred))"
   ]
  },
  {
   "cell_type": "code",
   "execution_count": null,
   "metadata": {},
   "outputs": [],
   "source": []
  }
 ],
 "metadata": {
  "kernelspec": {
   "display_name": "Python 3",
   "language": "python",
   "name": "python3"
  },
  "language_info": {
   "codemirror_mode": {
    "name": "ipython",
    "version": 3
   },
   "file_extension": ".py",
   "mimetype": "text/x-python",
   "name": "python",
   "nbconvert_exporter": "python",
   "pygments_lexer": "ipython3",
   "version": "3.6.4"
  }
 },
 "nbformat": 4,
 "nbformat_minor": 2
}

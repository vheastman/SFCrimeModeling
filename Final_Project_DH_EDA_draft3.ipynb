{
 "cells": [
  {
   "cell_type": "code",
   "execution_count": 74,
   "metadata": {
    "collapsed": true
   },
   "outputs": [],
   "source": [
    "%matplotlib inline\n",
    "\n",
    "# General libraries.\n",
    "import pandas as pd\n",
    "import numpy as np\n",
    "import matplotlib.pyplot as plt\n",
    "\n",
    "# SK-learn libraries for learning.\n",
    "from sklearn.pipeline import Pipeline\n",
    "from sklearn.naive_bayes import MultinomialNB\n",
    "from sklearn.svm import SVC\n",
    "from sklearn.linear_model import LogisticRegression\n",
    "from sklearn.neighbors import KNeighborsClassifier\n",
    "from sklearn.model_selection import train_test_split\n",
    "from sklearn.preprocessing import OneHotEncoder\n",
    "from sklearn.preprocessing import LabelEncoder\n",
    "from sklearn.ensemble import BaggingClassifier\n",
    "from sklearn.ensemble import RandomForestClassifier\n",
    "from sklearn.grid_search import GridSearchCV\n",
    "\n",
    "# SK-learn libraries for evaluation.\n",
    "from sklearn import metrics\n"
   ]
  },
  {
   "cell_type": "code",
   "execution_count": 75,
   "metadata": {
    "collapsed": true
   },
   "outputs": [],
   "source": [
    "df = pd.read_csv('train.csv', parse_dates=[0])\n",
    "df = df.drop(['Descript', 'Resolution'], axis=1)"
   ]
  },
  {
   "cell_type": "code",
   "execution_count": 76,
   "metadata": {},
   "outputs": [
    {
     "name": "stdout",
     "output_type": "stream",
     "text": [
      "(878049, 7) \n",
      "\n",
      "                Dates        Category  DayOfWeek PdDistrict  \\\n",
      "0 2015-05-13 23:53:00        WARRANTS  Wednesday   NORTHERN   \n",
      "1 2015-05-13 23:53:00  OTHER OFFENSES  Wednesday   NORTHERN   \n",
      "2 2015-05-13 23:33:00  OTHER OFFENSES  Wednesday   NORTHERN   \n",
      "3 2015-05-13 23:30:00   LARCENY/THEFT  Wednesday   NORTHERN   \n",
      "4 2015-05-13 23:30:00   LARCENY/THEFT  Wednesday       PARK   \n",
      "\n",
      "                     Address           X          Y  \n",
      "0         OAK ST / LAGUNA ST -122.425892  37.774599  \n",
      "1         OAK ST / LAGUNA ST -122.425892  37.774599  \n",
      "2  VANNESS AV / GREENWICH ST -122.424363  37.800414  \n",
      "3   1500 Block of LOMBARD ST -122.426995  37.800873  \n",
      "4  100 Block of BRODERICK ST -122.438738  37.771541   \n",
      "\n",
      "Dates         datetime64[ns]\n",
      "Category              object\n",
      "DayOfWeek             object\n",
      "PdDistrict            object\n",
      "Address               object\n",
      "X                    float64\n",
      "Y                    float64\n",
      "dtype: object\n"
     ]
    }
   ],
   "source": [
    "print (df.shape, '\\n')\n",
    "print (df.head(), '\\n')\n",
    "print (df.dtypes)"
   ]
  },
  {
   "cell_type": "code",
   "execution_count": 77,
   "metadata": {},
   "outputs": [
    {
     "name": "stdout",
     "output_type": "stream",
     "text": [
      "count            878049\n",
      "unique               39\n",
      "top       LARCENY/THEFT\n",
      "freq             174900\n",
      "Name: Category, dtype: object \n",
      "\n",
      "LARCENY/THEFT                  174900\n",
      "OTHER OFFENSES                 126182\n",
      "NON-CRIMINAL                    92304\n",
      "ASSAULT                         76876\n",
      "DRUG/NARCOTIC                   53971\n",
      "VEHICLE THEFT                   53781\n",
      "VANDALISM                       44725\n",
      "WARRANTS                        42214\n",
      "BURGLARY                        36755\n",
      "SUSPICIOUS OCC                  31414\n",
      "MISSING PERSON                  25989\n",
      "ROBBERY                         23000\n",
      "FRAUD                           16679\n",
      "FORGERY/COUNTERFEITING          10609\n",
      "SECONDARY CODES                  9985\n",
      "WEAPON LAWS                      8555\n",
      "PROSTITUTION                     7484\n",
      "TRESPASS                         7326\n",
      "STOLEN PROPERTY                  4540\n",
      "SEX OFFENSES FORCIBLE            4388\n",
      "DISORDERLY CONDUCT               4320\n",
      "DRUNKENNESS                      4280\n",
      "RECOVERED VEHICLE                3138\n",
      "KIDNAPPING                       2341\n",
      "DRIVING UNDER THE INFLUENCE      2268\n",
      "RUNAWAY                          1946\n",
      "LIQUOR LAWS                      1903\n",
      "ARSON                            1513\n",
      "LOITERING                        1225\n",
      "EMBEZZLEMENT                     1166\n",
      "SUICIDE                           508\n",
      "FAMILY OFFENSES                   491\n",
      "BAD CHECKS                        406\n",
      "BRIBERY                           289\n",
      "EXTORTION                         256\n",
      "SEX OFFENSES NON FORCIBLE         148\n",
      "GAMBLING                          146\n",
      "PORNOGRAPHY/OBSCENE MAT            22\n",
      "TREA                                6\n",
      "Name: Category, dtype: int64\n"
     ]
    }
   ],
   "source": [
    "print (df.Category.describe(), '\\n')\n",
    "print (df.Category.value_counts())"
   ]
  },
  {
   "cell_type": "code",
   "execution_count": 78,
   "metadata": {},
   "outputs": [
    {
     "data": {
      "text/plain": [
       "SOUTHERN      157182\n",
       "MISSION       119908\n",
       "NORTHERN      105296\n",
       "BAYVIEW        89431\n",
       "CENTRAL        85460\n",
       "TENDERLOIN     81809\n",
       "INGLESIDE      78845\n",
       "TARAVAL        65596\n",
       "PARK           49313\n",
       "RICHMOND       45209\n",
       "Name: PdDistrict, dtype: int64"
      ]
     },
     "execution_count": 78,
     "metadata": {},
     "output_type": "execute_result"
    }
   ],
   "source": [
    "df.PdDistrict.value_counts()"
   ]
  },
  {
   "cell_type": "code",
   "execution_count": 79,
   "metadata": {},
   "outputs": [
    {
     "data": {
      "text/plain": [
       "count       878049\n",
       "unique          10\n",
       "top       SOUTHERN\n",
       "freq        157182\n",
       "Name: PdDistrict, dtype: object"
      ]
     },
     "execution_count": 79,
     "metadata": {},
     "output_type": "execute_result"
    }
   ],
   "source": [
    "df.PdDistrict.describe()"
   ]
  },
  {
   "cell_type": "code",
   "execution_count": 80,
   "metadata": {},
   "outputs": [
    {
     "data": {
      "text/plain": [
       "count                     878049\n",
       "unique                     23228\n",
       "top       800 Block of BRYANT ST\n",
       "freq                       26533\n",
       "Name: Address, dtype: object"
      ]
     },
     "execution_count": 80,
     "metadata": {},
     "output_type": "execute_result"
    }
   ],
   "source": [
    "df.Address.describe()"
   ]
  },
  {
   "cell_type": "code",
   "execution_count": 81,
   "metadata": {},
   "outputs": [
    {
     "data": {
      "text/plain": [
       "LARCENY/THEFT                  6144\n",
       "NON-CRIMINAL                   5583\n",
       "OTHER OFFENSES                 3019\n",
       "ASSAULT                        1926\n",
       "WARRANTS                       1719\n",
       "VANDALISM                      1155\n",
       "SUSPICIOUS OCC                 1153\n",
       "FRAUD                           942\n",
       "DRUG/NARCOTIC                   787\n",
       "MISSING PERSON                  777\n",
       "FORGERY/COUNTERFEITING          614\n",
       "ROBBERY                         591\n",
       "BURGLARY                        384\n",
       "SECONDARY CODES                 312\n",
       "SEX OFFENSES FORCIBLE           296\n",
       "WEAPON LAWS                     156\n",
       "TRESPASS                        150\n",
       "VEHICLE THEFT                   128\n",
       "DRUNKENNESS                     100\n",
       "KIDNAPPING                       97\n",
       "STOLEN PROPERTY                  93\n",
       "DISORDERLY CONDUCT               76\n",
       "PROSTITUTION                     55\n",
       "DRIVING UNDER THE INFLUENCE      41\n",
       "ARSON                            41\n",
       "RUNAWAY                          36\n",
       "LIQUOR LAWS                      29\n",
       "EMBEZZLEMENT                     26\n",
       "SUICIDE                          16\n",
       "LOITERING                        15\n",
       "EXTORTION                        13\n",
       "SEX OFFENSES NON FORCIBLE        12\n",
       "BAD CHECKS                       12\n",
       "BRIBERY                          12\n",
       "FAMILY OFFENSES                   9\n",
       "RECOVERED VEHICLE                 9\n",
       "GAMBLING                          4\n",
       "PORNOGRAPHY/OBSCENE MAT           1\n",
       "Name: Category, dtype: int64"
      ]
     },
     "execution_count": 81,
     "metadata": {},
     "output_type": "execute_result"
    }
   ],
   "source": [
    "dfnew = df[df.Address == '800 Block of BRYANT ST']\n",
    "dfnew.Category.value_counts()"
   ]
  },
  {
   "cell_type": "code",
   "execution_count": 82,
   "metadata": {},
   "outputs": [
    {
     "data": {
      "text/plain": [
       "count    878049.000000\n",
       "mean       -122.422616\n",
       "std           0.030354\n",
       "min        -122.513642\n",
       "25%        -122.432952\n",
       "50%        -122.416420\n",
       "75%        -122.406959\n",
       "max        -120.500000\n",
       "Name: X, dtype: float64"
      ]
     },
     "execution_count": 82,
     "metadata": {},
     "output_type": "execute_result"
    }
   ],
   "source": [
    "df.X.describe()"
   ]
  },
  {
   "cell_type": "code",
   "execution_count": 83,
   "metadata": {},
   "outputs": [
    {
     "data": {
      "text/plain": [
       "count    878049.000000\n",
       "mean         37.771020\n",
       "std           0.456893\n",
       "min          37.707879\n",
       "25%          37.752427\n",
       "50%          37.775421\n",
       "75%          37.784369\n",
       "max          90.000000\n",
       "Name: Y, dtype: float64"
      ]
     },
     "execution_count": 83,
     "metadata": {},
     "output_type": "execute_result"
    }
   ],
   "source": [
    "df.Y.describe()"
   ]
  },
  {
   "cell_type": "code",
   "execution_count": 84,
   "metadata": {},
   "outputs": [
    {
     "name": "stderr",
     "output_type": "stream",
     "text": [
      "C:\\Users\\DCRH\\Anaconda3\\lib\\site-packages\\ipykernel\\__main__.py:4: UserWarning: Boolean Series key will be reindexed to match DataFrame index.\n"
     ]
    },
    {
     "data": {
      "text/plain": [
       "(877982, 7)"
      ]
     },
     "execution_count": 84,
     "metadata": {},
     "output_type": "execute_result"
    }
   ],
   "source": [
    "# Adjust to remove out of range X,Y values\n",
    "\n",
    "df2 = df[df.X < -121]\n",
    "df2 = df2[df.Y < 80]\n",
    "df2.shape"
   ]
  },
  {
   "cell_type": "code",
   "execution_count": 85,
   "metadata": {},
   "outputs": [
    {
     "name": "stdout",
     "output_type": "stream",
     "text": [
      "count    877982.000000\n",
      "mean       -122.422763\n",
      "std           0.025285\n",
      "min        -122.513642\n",
      "25%        -122.432952\n",
      "50%        -122.416420\n",
      "75%        -122.406959\n",
      "max        -122.364937\n",
      "Name: X, dtype: float64\n"
     ]
    },
    {
     "data": {
      "text/plain": [
       "count    877982.000000\n",
       "mean         37.767035\n",
       "std           0.024165\n",
       "min          37.707879\n",
       "25%          37.752427\n",
       "50%          37.775421\n",
       "75%          37.784368\n",
       "max          37.819975\n",
       "Name: Y, dtype: float64"
      ]
     },
     "execution_count": 85,
     "metadata": {},
     "output_type": "execute_result"
    }
   ],
   "source": [
    "print (df2.X.describe())\n",
    "df2.Y.describe()"
   ]
  },
  {
   "cell_type": "code",
   "execution_count": 86,
   "metadata": {
    "collapsed": true
   },
   "outputs": [],
   "source": [
    "df2['DOW'] = df2.Dates.dt.weekday"
   ]
  },
  {
   "cell_type": "code",
   "execution_count": 87,
   "metadata": {
    "collapsed": true
   },
   "outputs": [],
   "source": [
    "df2['DOM'] = df2.Dates.dt.day"
   ]
  },
  {
   "cell_type": "code",
   "execution_count": 88,
   "metadata": {
    "collapsed": true
   },
   "outputs": [],
   "source": [
    "df2['MONTH'] = df2.Dates.dt.month"
   ]
  },
  {
   "cell_type": "code",
   "execution_count": 89,
   "metadata": {
    "collapsed": true
   },
   "outputs": [],
   "source": [
    "df2['HOUR'] = df2.Dates.dt.hour"
   ]
  },
  {
   "cell_type": "code",
   "execution_count": 90,
   "metadata": {
    "collapsed": true
   },
   "outputs": [],
   "source": [
    "df2['YEAR'] = df2.Dates.dt.year"
   ]
  },
  {
   "cell_type": "code",
   "execution_count": 91,
   "metadata": {},
   "outputs": [
    {
     "data": {
      "text/html": [
       "<div>\n",
       "<style scoped>\n",
       "    .dataframe tbody tr th:only-of-type {\n",
       "        vertical-align: middle;\n",
       "    }\n",
       "\n",
       "    .dataframe tbody tr th {\n",
       "        vertical-align: top;\n",
       "    }\n",
       "\n",
       "    .dataframe thead th {\n",
       "        text-align: right;\n",
       "    }\n",
       "</style>\n",
       "<table border=\"1\" class=\"dataframe\">\n",
       "  <thead>\n",
       "    <tr style=\"text-align: right;\">\n",
       "      <th></th>\n",
       "      <th>Dates</th>\n",
       "      <th>Category</th>\n",
       "      <th>DayOfWeek</th>\n",
       "      <th>PdDistrict</th>\n",
       "      <th>Address</th>\n",
       "      <th>X</th>\n",
       "      <th>Y</th>\n",
       "      <th>DOW</th>\n",
       "      <th>DOM</th>\n",
       "      <th>MONTH</th>\n",
       "      <th>HOUR</th>\n",
       "      <th>YEAR</th>\n",
       "    </tr>\n",
       "  </thead>\n",
       "  <tbody>\n",
       "    <tr>\n",
       "      <th>0</th>\n",
       "      <td>2015-05-13 23:53:00</td>\n",
       "      <td>WARRANTS</td>\n",
       "      <td>Wednesday</td>\n",
       "      <td>NORTHERN</td>\n",
       "      <td>OAK ST / LAGUNA ST</td>\n",
       "      <td>-122.425892</td>\n",
       "      <td>37.774599</td>\n",
       "      <td>2</td>\n",
       "      <td>13</td>\n",
       "      <td>5</td>\n",
       "      <td>23</td>\n",
       "      <td>2015</td>\n",
       "    </tr>\n",
       "    <tr>\n",
       "      <th>1</th>\n",
       "      <td>2015-05-13 23:53:00</td>\n",
       "      <td>OTHER OFFENSES</td>\n",
       "      <td>Wednesday</td>\n",
       "      <td>NORTHERN</td>\n",
       "      <td>OAK ST / LAGUNA ST</td>\n",
       "      <td>-122.425892</td>\n",
       "      <td>37.774599</td>\n",
       "      <td>2</td>\n",
       "      <td>13</td>\n",
       "      <td>5</td>\n",
       "      <td>23</td>\n",
       "      <td>2015</td>\n",
       "    </tr>\n",
       "    <tr>\n",
       "      <th>2</th>\n",
       "      <td>2015-05-13 23:33:00</td>\n",
       "      <td>OTHER OFFENSES</td>\n",
       "      <td>Wednesday</td>\n",
       "      <td>NORTHERN</td>\n",
       "      <td>VANNESS AV / GREENWICH ST</td>\n",
       "      <td>-122.424363</td>\n",
       "      <td>37.800414</td>\n",
       "      <td>2</td>\n",
       "      <td>13</td>\n",
       "      <td>5</td>\n",
       "      <td>23</td>\n",
       "      <td>2015</td>\n",
       "    </tr>\n",
       "    <tr>\n",
       "      <th>3</th>\n",
       "      <td>2015-05-13 23:30:00</td>\n",
       "      <td>LARCENY/THEFT</td>\n",
       "      <td>Wednesday</td>\n",
       "      <td>NORTHERN</td>\n",
       "      <td>1500 Block of LOMBARD ST</td>\n",
       "      <td>-122.426995</td>\n",
       "      <td>37.800873</td>\n",
       "      <td>2</td>\n",
       "      <td>13</td>\n",
       "      <td>5</td>\n",
       "      <td>23</td>\n",
       "      <td>2015</td>\n",
       "    </tr>\n",
       "    <tr>\n",
       "      <th>4</th>\n",
       "      <td>2015-05-13 23:30:00</td>\n",
       "      <td>LARCENY/THEFT</td>\n",
       "      <td>Wednesday</td>\n",
       "      <td>PARK</td>\n",
       "      <td>100 Block of BRODERICK ST</td>\n",
       "      <td>-122.438738</td>\n",
       "      <td>37.771541</td>\n",
       "      <td>2</td>\n",
       "      <td>13</td>\n",
       "      <td>5</td>\n",
       "      <td>23</td>\n",
       "      <td>2015</td>\n",
       "    </tr>\n",
       "  </tbody>\n",
       "</table>\n",
       "</div>"
      ],
      "text/plain": [
       "                Dates        Category  DayOfWeek PdDistrict  \\\n",
       "0 2015-05-13 23:53:00        WARRANTS  Wednesday   NORTHERN   \n",
       "1 2015-05-13 23:53:00  OTHER OFFENSES  Wednesday   NORTHERN   \n",
       "2 2015-05-13 23:33:00  OTHER OFFENSES  Wednesday   NORTHERN   \n",
       "3 2015-05-13 23:30:00   LARCENY/THEFT  Wednesday   NORTHERN   \n",
       "4 2015-05-13 23:30:00   LARCENY/THEFT  Wednesday       PARK   \n",
       "\n",
       "                     Address           X          Y  DOW  DOM  MONTH  HOUR  \\\n",
       "0         OAK ST / LAGUNA ST -122.425892  37.774599    2   13      5    23   \n",
       "1         OAK ST / LAGUNA ST -122.425892  37.774599    2   13      5    23   \n",
       "2  VANNESS AV / GREENWICH ST -122.424363  37.800414    2   13      5    23   \n",
       "3   1500 Block of LOMBARD ST -122.426995  37.800873    2   13      5    23   \n",
       "4  100 Block of BRODERICK ST -122.438738  37.771541    2   13      5    23   \n",
       "\n",
       "   YEAR  \n",
       "0  2015  \n",
       "1  2015  \n",
       "2  2015  \n",
       "3  2015  \n",
       "4  2015  "
      ]
     },
     "execution_count": 91,
     "metadata": {},
     "output_type": "execute_result"
    }
   ],
   "source": [
    "df2.head()"
   ]
  },
  {
   "cell_type": "code",
   "execution_count": 92,
   "metadata": {
    "collapsed": true
   },
   "outputs": [],
   "source": [
    "df_abbrev_train = df2[['PdDistrict', 'DOM', 'DOW', 'MONTH', 'HOUR','YEAR']]"
   ]
  },
  {
   "cell_type": "code",
   "execution_count": 93,
   "metadata": {
    "collapsed": true
   },
   "outputs": [],
   "source": [
    "df_label = df2.Category"
   ]
  },
  {
   "cell_type": "code",
   "execution_count": 94,
   "metadata": {},
   "outputs": [
    {
     "data": {
      "text/html": [
       "<div>\n",
       "<style scoped>\n",
       "    .dataframe tbody tr th:only-of-type {\n",
       "        vertical-align: middle;\n",
       "    }\n",
       "\n",
       "    .dataframe tbody tr th {\n",
       "        vertical-align: top;\n",
       "    }\n",
       "\n",
       "    .dataframe thead th {\n",
       "        text-align: right;\n",
       "    }\n",
       "</style>\n",
       "<table border=\"1\" class=\"dataframe\">\n",
       "  <thead>\n",
       "    <tr style=\"text-align: right;\">\n",
       "      <th></th>\n",
       "      <th>PdDistrict</th>\n",
       "      <th>DOM</th>\n",
       "      <th>DOW</th>\n",
       "      <th>MONTH</th>\n",
       "      <th>HOUR</th>\n",
       "      <th>YEAR</th>\n",
       "    </tr>\n",
       "  </thead>\n",
       "  <tbody>\n",
       "    <tr>\n",
       "      <th>0</th>\n",
       "      <td>NORTHERN</td>\n",
       "      <td>13</td>\n",
       "      <td>2</td>\n",
       "      <td>5</td>\n",
       "      <td>23</td>\n",
       "      <td>2015</td>\n",
       "    </tr>\n",
       "    <tr>\n",
       "      <th>1</th>\n",
       "      <td>NORTHERN</td>\n",
       "      <td>13</td>\n",
       "      <td>2</td>\n",
       "      <td>5</td>\n",
       "      <td>23</td>\n",
       "      <td>2015</td>\n",
       "    </tr>\n",
       "    <tr>\n",
       "      <th>2</th>\n",
       "      <td>NORTHERN</td>\n",
       "      <td>13</td>\n",
       "      <td>2</td>\n",
       "      <td>5</td>\n",
       "      <td>23</td>\n",
       "      <td>2015</td>\n",
       "    </tr>\n",
       "    <tr>\n",
       "      <th>3</th>\n",
       "      <td>NORTHERN</td>\n",
       "      <td>13</td>\n",
       "      <td>2</td>\n",
       "      <td>5</td>\n",
       "      <td>23</td>\n",
       "      <td>2015</td>\n",
       "    </tr>\n",
       "    <tr>\n",
       "      <th>4</th>\n",
       "      <td>PARK</td>\n",
       "      <td>13</td>\n",
       "      <td>2</td>\n",
       "      <td>5</td>\n",
       "      <td>23</td>\n",
       "      <td>2015</td>\n",
       "    </tr>\n",
       "  </tbody>\n",
       "</table>\n",
       "</div>"
      ],
      "text/plain": [
       "  PdDistrict  DOM  DOW  MONTH  HOUR  YEAR\n",
       "0   NORTHERN   13    2      5    23  2015\n",
       "1   NORTHERN   13    2      5    23  2015\n",
       "2   NORTHERN   13    2      5    23  2015\n",
       "3   NORTHERN   13    2      5    23  2015\n",
       "4       PARK   13    2      5    23  2015"
      ]
     },
     "execution_count": 94,
     "metadata": {},
     "output_type": "execute_result"
    }
   ],
   "source": [
    "df_abbrev_train.head()"
   ]
  },
  {
   "cell_type": "code",
   "execution_count": 95,
   "metadata": {
    "collapsed": true
   },
   "outputs": [],
   "source": [
    "df_PdD = pd.get_dummies(df2.PdDistrict)\n",
    "df_DOM = pd.get_dummies(df2.DOM, prefix = 'DofM')\n",
    "df_DOW = pd.get_dummies(df2.DOW, prefix = 'DofW')\n",
    "df_MONTH = pd.get_dummies(df2.MONTH, prefix = 'Month')\n",
    "df_HOUR = pd.get_dummies(df2.HOUR, prefix = 'Hour')"
   ]
  },
  {
   "cell_type": "code",
   "execution_count": 96,
   "metadata": {},
   "outputs": [
    {
     "data": {
      "text/plain": [
       "(877982, 84)"
      ]
     },
     "execution_count": 96,
     "metadata": {},
     "output_type": "execute_result"
    }
   ],
   "source": [
    "newdf = pd.concat([df_PdD, df_DOM], axis = 1)\n",
    "newdf = pd.concat([newdf, df_DOW], axis = 1)\n",
    "newdf = pd.concat([newdf, df_MONTH], axis = 1)\n",
    "newdf = pd.concat([newdf, df_HOUR], axis = 1)\n",
    "newdf.head()\n",
    "newdf.shape"
   ]
  },
  {
   "cell_type": "code",
   "execution_count": 97,
   "metadata": {
    "collapsed": true
   },
   "outputs": [],
   "source": [
    "X_train, X_dev, y_train, y_dev = train_test_split(newdf, df_label, test_size = 0.3, random_state= 42)"
   ]
  },
  {
   "cell_type": "code",
   "execution_count": 98,
   "metadata": {},
   "outputs": [
    {
     "name": "stdout",
     "output_type": "stream",
     "text": [
      "(614587, 84)\n",
      "(263395, 84)\n"
     ]
    }
   ],
   "source": [
    "print (X_train.shape)\n",
    "print (X_dev.shape)"
   ]
  },
  {
   "cell_type": "code",
   "execution_count": 99,
   "metadata": {},
   "outputs": [
    {
     "name": "stdout",
     "output_type": "stream",
     "text": [
      "(614587,)\n",
      "(263395,)\n"
     ]
    }
   ],
   "source": [
    "print (y_train.shape)\n",
    "print (y_dev.shape)"
   ]
  },
  {
   "cell_type": "code",
   "execution_count": 70,
   "metadata": {},
   "outputs": [
    {
     "name": "stdout",
     "output_type": "stream",
     "text": [
      "                             precision    recall  f1-score   support\n",
      "\n",
      "                      ARSON       0.00      0.00      0.00       477\n",
      "                    ASSAULT       0.16      0.03      0.05     22944\n",
      "                 BAD CHECKS       0.00      0.00      0.00       124\n",
      "                    BRIBERY       0.00      0.00      0.00        92\n",
      "                   BURGLARY       0.16      0.00      0.00     11080\n",
      "         DISORDERLY CONDUCT       0.00      0.00      0.00      1253\n",
      "DRIVING UNDER THE INFLUENCE       0.00      0.00      0.00       661\n",
      "              DRUG/NARCOTIC       0.23      0.29      0.26     16297\n",
      "                DRUNKENNESS       0.00      0.00      0.00      1288\n",
      "               EMBEZZLEMENT       0.00      0.00      0.00       339\n",
      "                  EXTORTION       0.00      0.00      0.00        81\n",
      "            FAMILY OFFENSES       0.00      0.00      0.00       152\n",
      "     FORGERY/COUNTERFEITING       0.00      0.00      0.00      3120\n",
      "                      FRAUD       0.00      0.00      0.00      4902\n",
      "                   GAMBLING       0.00      0.00      0.00        40\n",
      "                 KIDNAPPING       0.00      0.00      0.00       679\n",
      "              LARCENY/THEFT       0.25      0.77      0.37     52492\n",
      "                LIQUOR LAWS       0.00      0.00      0.00       548\n",
      "                  LOITERING       0.00      0.00      0.00       367\n",
      "             MISSING PERSON       0.30      0.00      0.00      7782\n",
      "               NON-CRIMINAL       0.17      0.01      0.01     27745\n",
      "             OTHER OFFENSES       0.18      0.34      0.23     37759\n",
      "    PORNOGRAPHY/OBSCENE MAT       0.00      0.00      0.00         6\n",
      "               PROSTITUTION       0.00      0.00      0.00      2301\n",
      "          RECOVERED VEHICLE       0.00      0.00      0.00       895\n",
      "                    ROBBERY       0.00      0.00      0.00      6827\n",
      "                    RUNAWAY       0.00      0.00      0.00       596\n",
      "            SECONDARY CODES       0.00      0.00      0.00      3030\n",
      "      SEX OFFENSES FORCIBLE       0.00      0.00      0.00      1309\n",
      "  SEX OFFENSES NON FORCIBLE       0.00      0.00      0.00        55\n",
      "            STOLEN PROPERTY       0.00      0.00      0.00      1403\n",
      "                    SUICIDE       0.00      0.00      0.00       142\n",
      "             SUSPICIOUS OCC       0.00      0.00      0.00      9350\n",
      "                       TREA       0.00      0.00      0.00         3\n",
      "                   TRESPASS       0.00      0.00      0.00      2189\n",
      "                  VANDALISM       0.00      0.00      0.00     13489\n",
      "              VEHICLE THEFT       0.20      0.02      0.04     16328\n",
      "                   WARRANTS       0.00      0.00      0.00     12618\n",
      "                WEAPON LAWS       0.00      0.00      0.00      2632\n",
      "\n",
      "                avg / total       0.15      0.22      0.13    263395\n",
      "\n"
     ]
    },
    {
     "name": "stderr",
     "output_type": "stream",
     "text": [
      "C:\\Users\\dcrha\\Anaconda3\\lib\\site-packages\\sklearn\\metrics\\classification.py:1135: UndefinedMetricWarning: Precision and F-score are ill-defined and being set to 0.0 in labels with no predicted samples.\n",
      "  'precision', 'predicted', average, warn_for)\n"
     ]
    }
   ],
   "source": [
    "lr = LogisticRegression( )\n",
    "lr.fit(X_train, y_train)\n",
    "lr.predict(X_dev)\n",
    "print (metrics.classification_report(y_dev, lr.predict(X_dev)))"
   ]
  },
  {
   "cell_type": "code",
   "execution_count": 60,
   "metadata": {},
   "outputs": [
    {
     "name": "stdout",
     "output_type": "stream",
     "text": [
      "Wall time: 5.76 s\n",
      "Wall time: 156 ms\n",
      "                             precision    recall  f1-score   support\n",
      "\n",
      "                      ARSON       0.00      0.00      0.00       326\n",
      "                    ASSAULT       0.16      0.03      0.06     15272\n",
      "                 BAD CHECKS       0.00      0.00      0.00        87\n",
      "                    BRIBERY       0.00      0.00      0.00        64\n",
      "                   BURGLARY       0.18      0.00      0.00      7388\n",
      "         DISORDERLY CONDUCT       0.00      0.00      0.00       853\n",
      "DRIVING UNDER THE INFLUENCE       0.00      0.00      0.00       409\n",
      "              DRUG/NARCOTIC       0.24      0.28      0.26     10938\n",
      "                DRUNKENNESS       0.00      0.00      0.00       847\n",
      "               EMBEZZLEMENT       0.00      0.00      0.00       223\n",
      "                  EXTORTION       0.00      0.00      0.00        50\n",
      "            FAMILY OFFENSES       0.00      0.00      0.00        93\n",
      "     FORGERY/COUNTERFEITING       0.00      0.00      0.00      2081\n",
      "                      FRAUD       0.00      0.00      0.00      3290\n",
      "                   GAMBLING       0.00      0.00      0.00        26\n",
      "                 KIDNAPPING       0.00      0.00      0.00       438\n",
      "              LARCENY/THEFT       0.25      0.77      0.37     35013\n",
      "                LIQUOR LAWS       0.00      0.00      0.00       385\n",
      "                  LOITERING       0.00      0.00      0.00       241\n",
      "             MISSING PERSON       0.18      0.00      0.00      5229\n",
      "               NON-CRIMINAL       0.18      0.01      0.01     18580\n",
      "             OTHER OFFENSES       0.18      0.34      0.23     25099\n",
      "    PORNOGRAPHY/OBSCENE MAT       0.00      0.00      0.00         4\n",
      "               PROSTITUTION       0.07      0.00      0.00      1526\n",
      "          RECOVERED VEHICLE       0.00      0.00      0.00       586\n",
      "                    ROBBERY       0.00      0.00      0.00      4537\n",
      "                    RUNAWAY       0.00      0.00      0.00       398\n",
      "            SECONDARY CODES       0.00      0.00      0.00      2059\n",
      "      SEX OFFENSES FORCIBLE       0.00      0.00      0.00       870\n",
      "  SEX OFFENSES NON FORCIBLE       0.00      0.00      0.00        38\n",
      "            STOLEN PROPERTY       0.00      0.00      0.00       924\n",
      "                    SUICIDE       0.00      0.00      0.00       102\n",
      "             SUSPICIOUS OCC       0.00      0.00      0.00      6246\n",
      "                       TREA       0.00      0.00      0.00         2\n",
      "                   TRESPASS       0.00      0.00      0.00      1459\n",
      "                  VANDALISM       0.06      0.00      0.00      8967\n",
      "              VEHICLE THEFT       0.18      0.03      0.06     10777\n",
      "                   WARRANTS       0.00      0.00      0.00      8429\n",
      "                WEAPON LAWS       0.00      0.00      0.00      1741\n",
      "\n",
      "                avg / total       0.15      0.22      0.13    175597\n",
      "\n"
     ]
    },
    {
     "name": "stderr",
     "output_type": "stream",
     "text": [
      "C:\\Users\\dcrha\\Anaconda3\\lib\\site-packages\\sklearn\\metrics\\classification.py:1135: UndefinedMetricWarning: Precision and F-score are ill-defined and being set to 0.0 in labels with no predicted samples.\n",
      "  'precision', 'predicted', average, warn_for)\n"
     ]
    }
   ],
   "source": [
    "# train using MultinomialNB\n",
    "nb1 = MultinomialNB()\n",
    "%time nb1.fit(X_train, y_train)\n",
    "%time y_pred = nb1.predict(X_dev)\n",
    "print (metrics.classification_report(y_dev, y_pred))"
   ]
  },
  {
   "cell_type": "code",
   "execution_count": 63,
   "metadata": {
    "collapsed": true
   },
   "outputs": [],
   "source": [
    "# bg1 = BaggingClassifier(n_estimators = 20)\n",
    "# %time bg1.fit(X_train, y_train)\n",
    "# %time y_pred = bg1.predict(X_dev)\n",
    "# print (metrics.classification_report(y_dev, y_pred))"
   ]
  },
  {
   "cell_type": "code",
   "execution_count": 65,
   "metadata": {},
   "outputs": [
    {
     "name": "stdout",
     "output_type": "stream",
     "text": [
      "Wall time: 31.8 s\n",
      "Wall time: 1.53 s\n",
      "                             precision    recall  f1-score   support\n",
      "\n",
      "                      ARSON       0.04      0.02      0.03       326\n",
      "                    ASSAULT       0.14      0.15      0.14     15272\n",
      "                 BAD CHECKS       0.00      0.00      0.00        87\n",
      "                    BRIBERY       0.00      0.00      0.00        64\n",
      "                   BURGLARY       0.07      0.06      0.06      7388\n",
      "         DISORDERLY CONDUCT       0.02      0.01      0.02       853\n",
      "DRIVING UNDER THE INFLUENCE       0.02      0.01      0.02       409\n",
      "              DRUG/NARCOTIC       0.24      0.27      0.25     10938\n",
      "                DRUNKENNESS       0.01      0.01      0.01       847\n",
      "               EMBEZZLEMENT       0.02      0.01      0.01       223\n",
      "                  EXTORTION       0.00      0.00      0.00        50\n",
      "            FAMILY OFFENSES       0.03      0.02      0.03        93\n",
      "     FORGERY/COUNTERFEITING       0.06      0.04      0.05      2081\n",
      "                      FRAUD       0.04      0.03      0.03      3290\n",
      "                   GAMBLING       0.07      0.04      0.05        26\n",
      "                 KIDNAPPING       0.01      0.01      0.01       438\n",
      "              LARCENY/THEFT       0.27      0.34      0.30     35013\n",
      "                LIQUOR LAWS       0.06      0.05      0.05       385\n",
      "                  LOITERING       0.06      0.04      0.05       241\n",
      "             MISSING PERSON       0.19      0.18      0.19      5229\n",
      "               NON-CRIMINAL       0.14      0.13      0.13     18580\n",
      "             OTHER OFFENSES       0.18      0.20      0.19     25099\n",
      "    PORNOGRAPHY/OBSCENE MAT       0.00      0.00      0.00         4\n",
      "               PROSTITUTION       0.23      0.25      0.24      1526\n",
      "          RECOVERED VEHICLE       0.01      0.01      0.01       586\n",
      "                    ROBBERY       0.05      0.04      0.04      4537\n",
      "                    RUNAWAY       0.04      0.03      0.04       398\n",
      "            SECONDARY CODES       0.01      0.00      0.01      2059\n",
      "      SEX OFFENSES FORCIBLE       0.09      0.07      0.08       870\n",
      "  SEX OFFENSES NON FORCIBLE       0.00      0.00      0.00        38\n",
      "            STOLEN PROPERTY       0.01      0.01      0.01       924\n",
      "                    SUICIDE       0.00      0.00      0.00       102\n",
      "             SUSPICIOUS OCC       0.05      0.04      0.05      6246\n",
      "                       TREA       0.00      0.00      0.00         2\n",
      "                   TRESPASS       0.03      0.02      0.02      1459\n",
      "                  VANDALISM       0.09      0.07      0.08      8967\n",
      "              VEHICLE THEFT       0.22      0.22      0.22     10777\n",
      "                   WARRANTS       0.08      0.06      0.07      8429\n",
      "                WEAPON LAWS       0.09      0.07      0.07      1741\n",
      "\n",
      "                avg / total       0.16      0.18      0.17    175597\n",
      "\n"
     ]
    },
    {
     "name": "stderr",
     "output_type": "stream",
     "text": [
      "C:\\Users\\dcrha\\Anaconda3\\lib\\site-packages\\sklearn\\metrics\\classification.py:1135: UndefinedMetricWarning: Precision and F-score are ill-defined and being set to 0.0 in labels with no predicted samples.\n",
      "  'precision', 'predicted', average, warn_for)\n"
     ]
    }
   ],
   "source": [
    "rf1 = RandomForestClassifier()\n",
    "%time rf1.fit(X_train, y_train)\n",
    "%time y_pred = rf1.predict(X_dev)\n",
    "print (metrics.classification_report(y_dev, y_pred))\n",
    "print (metrics.log_loss(y_dev, y_pred))"
   ]
  },
  {
   "cell_type": "code",
   "execution_count": 51,
   "metadata": {},
   "outputs": [
    {
     "name": "stdout",
     "output_type": "stream",
     "text": [
      "Wall time: 30.5 s\n",
      "                             precision    recall  f1-score   support\n",
      "\n",
      "                      ARSON       0.59      0.41      0.48       321\n",
      "                    ASSAULT       0.44      0.44      0.44     15364\n",
      "                 BAD CHECKS       0.38      0.18      0.25        72\n",
      "                    BRIBERY       0.37      0.12      0.18        58\n",
      "                   BURGLARY       0.50      0.36      0.41      7389\n",
      "         DISORDERLY CONDUCT       0.36      0.23      0.28       828\n",
      "DRIVING UNDER THE INFLUENCE       0.48      0.27      0.35       459\n",
      "              DRUG/NARCOTIC       0.44      0.53      0.49     10723\n",
      "                DRUNKENNESS       0.35      0.18      0.24       857\n",
      "               EMBEZZLEMENT       0.32      0.18      0.23       222\n",
      "                  EXTORTION       0.27      0.16      0.20        51\n",
      "            FAMILY OFFENSES       0.44      0.27      0.34        92\n",
      "     FORGERY/COUNTERFEITING       0.39      0.26      0.31      2092\n",
      "                      FRAUD       0.42      0.26      0.32      3277\n",
      "                   GAMBLING       0.41      0.27      0.33        33\n",
      "                 KIDNAPPING       0.30      0.16      0.21       435\n",
      "              LARCENY/THEFT       0.49      0.65      0.56     35099\n",
      "                LIQUOR LAWS       0.39      0.23      0.29       380\n",
      "                  LOITERING       0.36      0.24      0.29       258\n",
      "             MISSING PERSON       0.49      0.53      0.51      5129\n",
      "               NON-CRIMINAL       0.47      0.43      0.45     18500\n",
      "             OTHER OFFENSES       0.44      0.50      0.47     25026\n",
      "    PORNOGRAPHY/OBSCENE MAT       0.00      0.00      0.00         4\n",
      "               PROSTITUTION       0.44      0.52      0.48      1538\n",
      "          RECOVERED VEHICLE       0.48      0.31      0.38       614\n",
      "                    ROBBERY       0.45      0.32      0.38      4592\n",
      "                    RUNAWAY       0.45      0.30      0.36       401\n",
      "            SECONDARY CODES       0.32      0.15      0.20      2063\n",
      "      SEX OFFENSES FORCIBLE       0.43      0.30      0.35       909\n",
      "  SEX OFFENSES NON FORCIBLE       0.06      0.04      0.05        26\n",
      "            STOLEN PROPERTY       0.28      0.12      0.17       917\n",
      "                    SUICIDE       0.53      0.26      0.35        92\n",
      "             SUSPICIOUS OCC       0.45      0.31      0.37      6252\n",
      "                       TREA       0.00      0.00      0.00         2\n",
      "                   TRESPASS       0.42      0.24      0.31      1514\n",
      "                  VANDALISM       0.48      0.37      0.42      9124\n",
      "              VEHICLE THEFT       0.49      0.54      0.52     10671\n",
      "                   WARRANTS       0.40      0.30      0.34      8514\n",
      "                WEAPON LAWS       0.38      0.28      0.32      1712\n",
      "\n",
      "                avg / total       0.46      0.46      0.45    175610\n",
      "\n"
     ]
    },
    {
     "name": "stderr",
     "output_type": "stream",
     "text": [
      "C:\\Users\\DCRH\\Anaconda3\\envs\\py36\\lib\\site-packages\\sklearn\\metrics\\classification.py:1135: UndefinedMetricWarning: Precision and F-score are ill-defined and being set to 0.0 in labels with no predicted samples.\n",
      "  'precision', 'predicted', average, warn_for)\n"
     ]
    }
   ],
   "source": [
    "# rf2 = RandomForestClassifier()\n",
    "# %time rf2.fit(newdf, df_label)\n",
    "# y_pred = rf2.predict(X_dev)\n",
    "# print (metrics.classification_report(y_dev, y_pred))"
   ]
  },
  {
   "cell_type": "markdown",
   "metadata": {},
   "source": [
    "## TRY SPLITTING ADDRESS BY GAUSSIAN MIXTURE"
   ]
  },
  {
   "cell_type": "code",
   "execution_count": 100,
   "metadata": {},
   "outputs": [
    {
     "data": {
      "text/html": [
       "<div>\n",
       "<style scoped>\n",
       "    .dataframe tbody tr th:only-of-type {\n",
       "        vertical-align: middle;\n",
       "    }\n",
       "\n",
       "    .dataframe tbody tr th {\n",
       "        vertical-align: top;\n",
       "    }\n",
       "\n",
       "    .dataframe thead th {\n",
       "        text-align: right;\n",
       "    }\n",
       "</style>\n",
       "<table border=\"1\" class=\"dataframe\">\n",
       "  <thead>\n",
       "    <tr style=\"text-align: right;\">\n",
       "      <th></th>\n",
       "      <th>Dates</th>\n",
       "      <th>Category</th>\n",
       "      <th>DayOfWeek</th>\n",
       "      <th>PdDistrict</th>\n",
       "      <th>Address</th>\n",
       "      <th>X</th>\n",
       "      <th>Y</th>\n",
       "      <th>DOW</th>\n",
       "      <th>DOM</th>\n",
       "      <th>MONTH</th>\n",
       "      <th>HOUR</th>\n",
       "      <th>YEAR</th>\n",
       "    </tr>\n",
       "  </thead>\n",
       "  <tbody>\n",
       "    <tr>\n",
       "      <th>0</th>\n",
       "      <td>2015-05-13 23:53:00</td>\n",
       "      <td>WARRANTS</td>\n",
       "      <td>Wednesday</td>\n",
       "      <td>NORTHERN</td>\n",
       "      <td>OAK ST / LAGUNA ST</td>\n",
       "      <td>-122.425892</td>\n",
       "      <td>37.774599</td>\n",
       "      <td>2</td>\n",
       "      <td>13</td>\n",
       "      <td>5</td>\n",
       "      <td>23</td>\n",
       "      <td>2015</td>\n",
       "    </tr>\n",
       "    <tr>\n",
       "      <th>1</th>\n",
       "      <td>2015-05-13 23:53:00</td>\n",
       "      <td>OTHER OFFENSES</td>\n",
       "      <td>Wednesday</td>\n",
       "      <td>NORTHERN</td>\n",
       "      <td>OAK ST / LAGUNA ST</td>\n",
       "      <td>-122.425892</td>\n",
       "      <td>37.774599</td>\n",
       "      <td>2</td>\n",
       "      <td>13</td>\n",
       "      <td>5</td>\n",
       "      <td>23</td>\n",
       "      <td>2015</td>\n",
       "    </tr>\n",
       "    <tr>\n",
       "      <th>2</th>\n",
       "      <td>2015-05-13 23:33:00</td>\n",
       "      <td>OTHER OFFENSES</td>\n",
       "      <td>Wednesday</td>\n",
       "      <td>NORTHERN</td>\n",
       "      <td>VANNESS AV / GREENWICH ST</td>\n",
       "      <td>-122.424363</td>\n",
       "      <td>37.800414</td>\n",
       "      <td>2</td>\n",
       "      <td>13</td>\n",
       "      <td>5</td>\n",
       "      <td>23</td>\n",
       "      <td>2015</td>\n",
       "    </tr>\n",
       "    <tr>\n",
       "      <th>3</th>\n",
       "      <td>2015-05-13 23:30:00</td>\n",
       "      <td>LARCENY/THEFT</td>\n",
       "      <td>Wednesday</td>\n",
       "      <td>NORTHERN</td>\n",
       "      <td>1500 Block of LOMBARD ST</td>\n",
       "      <td>-122.426995</td>\n",
       "      <td>37.800873</td>\n",
       "      <td>2</td>\n",
       "      <td>13</td>\n",
       "      <td>5</td>\n",
       "      <td>23</td>\n",
       "      <td>2015</td>\n",
       "    </tr>\n",
       "    <tr>\n",
       "      <th>4</th>\n",
       "      <td>2015-05-13 23:30:00</td>\n",
       "      <td>LARCENY/THEFT</td>\n",
       "      <td>Wednesday</td>\n",
       "      <td>PARK</td>\n",
       "      <td>100 Block of BRODERICK ST</td>\n",
       "      <td>-122.438738</td>\n",
       "      <td>37.771541</td>\n",
       "      <td>2</td>\n",
       "      <td>13</td>\n",
       "      <td>5</td>\n",
       "      <td>23</td>\n",
       "      <td>2015</td>\n",
       "    </tr>\n",
       "  </tbody>\n",
       "</table>\n",
       "</div>"
      ],
      "text/plain": [
       "                Dates        Category  DayOfWeek PdDistrict  \\\n",
       "0 2015-05-13 23:53:00        WARRANTS  Wednesday   NORTHERN   \n",
       "1 2015-05-13 23:53:00  OTHER OFFENSES  Wednesday   NORTHERN   \n",
       "2 2015-05-13 23:33:00  OTHER OFFENSES  Wednesday   NORTHERN   \n",
       "3 2015-05-13 23:30:00   LARCENY/THEFT  Wednesday   NORTHERN   \n",
       "4 2015-05-13 23:30:00   LARCENY/THEFT  Wednesday       PARK   \n",
       "\n",
       "                     Address           X          Y  DOW  DOM  MONTH  HOUR  \\\n",
       "0         OAK ST / LAGUNA ST -122.425892  37.774599    2   13      5    23   \n",
       "1         OAK ST / LAGUNA ST -122.425892  37.774599    2   13      5    23   \n",
       "2  VANNESS AV / GREENWICH ST -122.424363  37.800414    2   13      5    23   \n",
       "3   1500 Block of LOMBARD ST -122.426995  37.800873    2   13      5    23   \n",
       "4  100 Block of BRODERICK ST -122.438738  37.771541    2   13      5    23   \n",
       "\n",
       "   YEAR  \n",
       "0  2015  \n",
       "1  2015  \n",
       "2  2015  \n",
       "3  2015  \n",
       "4  2015  "
      ]
     },
     "execution_count": 100,
     "metadata": {},
     "output_type": "execute_result"
    }
   ],
   "source": [
    "df2.head()"
   ]
  },
  {
   "cell_type": "code",
   "execution_count": 101,
   "metadata": {},
   "outputs": [
    {
     "data": {
      "text/plain": [
       "(23191, 39)"
      ]
     },
     "execution_count": 101,
     "metadata": {},
     "output_type": "execute_result"
    }
   ],
   "source": [
    "gmm2_df = df2.Category.groupby(df.Address).value_counts().unstack(level=0).fillna(value=0).T\n",
    "\n",
    "gmm2_df.shape"
   ]
  },
  {
   "cell_type": "code",
   "execution_count": 102,
   "metadata": {},
   "outputs": [
    {
     "data": {
      "text/html": [
       "<div>\n",
       "<style scoped>\n",
       "    .dataframe tbody tr th:only-of-type {\n",
       "        vertical-align: middle;\n",
       "    }\n",
       "\n",
       "    .dataframe tbody tr th {\n",
       "        vertical-align: top;\n",
       "    }\n",
       "\n",
       "    .dataframe thead th {\n",
       "        text-align: right;\n",
       "    }\n",
       "</style>\n",
       "<table border=\"1\" class=\"dataframe\">\n",
       "  <thead>\n",
       "    <tr style=\"text-align: right;\">\n",
       "      <th></th>\n",
       "      <th>Address</th>\n",
       "      <th>X</th>\n",
       "      <th>Y</th>\n",
       "    </tr>\n",
       "  </thead>\n",
       "  <tbody>\n",
       "    <tr>\n",
       "      <th>150190</th>\n",
       "      <td>YOSEMITE AV / LANE ST</td>\n",
       "      <td>-122.393531</td>\n",
       "      <td>37.727914</td>\n",
       "    </tr>\n",
       "    <tr>\n",
       "      <th>66568</th>\n",
       "      <td>YOSEMITE AV / MENDELL ST</td>\n",
       "      <td>-122.395440</td>\n",
       "      <td>37.728999</td>\n",
       "    </tr>\n",
       "    <tr>\n",
       "      <th>67224</th>\n",
       "      <td>YUKON ST / 19TH ST</td>\n",
       "      <td>-122.442177</td>\n",
       "      <td>37.758940</td>\n",
       "    </tr>\n",
       "    <tr>\n",
       "      <th>215794</th>\n",
       "      <td>YUKON ST / EAGLE ST</td>\n",
       "      <td>-122.442238</td>\n",
       "      <td>37.758104</td>\n",
       "    </tr>\n",
       "    <tr>\n",
       "      <th>151910</th>\n",
       "      <td>ZAMPA LN / GEARY BL</td>\n",
       "      <td>-122.430876</td>\n",
       "      <td>37.784609</td>\n",
       "    </tr>\n",
       "    <tr>\n",
       "      <th>685364</th>\n",
       "      <td>ZENO PL / FOLSOM ST</td>\n",
       "      <td>-122.393307</td>\n",
       "      <td>37.788226</td>\n",
       "    </tr>\n",
       "    <tr>\n",
       "      <th>284</th>\n",
       "      <td>ZOE ST / BRANNAN ST</td>\n",
       "      <td>-122.395309</td>\n",
       "      <td>37.779297</td>\n",
       "    </tr>\n",
       "    <tr>\n",
       "      <th>19639</th>\n",
       "      <td>ZOE ST / BRYANT ST</td>\n",
       "      <td>-122.396849</td>\n",
       "      <td>37.780528</td>\n",
       "    </tr>\n",
       "    <tr>\n",
       "      <th>21579</th>\n",
       "      <td>ZOE ST / FREELON ST</td>\n",
       "      <td>-122.395839</td>\n",
       "      <td>37.779720</td>\n",
       "    </tr>\n",
       "    <tr>\n",
       "      <th>102726</th>\n",
       "      <td>ZOE ST / WELSH ST</td>\n",
       "      <td>-122.396308</td>\n",
       "      <td>37.780097</td>\n",
       "    </tr>\n",
       "  </tbody>\n",
       "</table>\n",
       "</div>"
      ],
      "text/plain": [
       "                         Address           X          Y\n",
       "150190     YOSEMITE AV / LANE ST -122.393531  37.727914\n",
       "66568   YOSEMITE AV / MENDELL ST -122.395440  37.728999\n",
       "67224         YUKON ST / 19TH ST -122.442177  37.758940\n",
       "215794       YUKON ST / EAGLE ST -122.442238  37.758104\n",
       "151910       ZAMPA LN / GEARY BL -122.430876  37.784609\n",
       "685364       ZENO PL / FOLSOM ST -122.393307  37.788226\n",
       "284          ZOE ST / BRANNAN ST -122.395309  37.779297\n",
       "19639         ZOE ST / BRYANT ST -122.396849  37.780528\n",
       "21579        ZOE ST / FREELON ST -122.395839  37.779720\n",
       "102726         ZOE ST / WELSH ST -122.396308  37.780097"
      ]
     },
     "execution_count": 102,
     "metadata": {},
     "output_type": "execute_result"
    }
   ],
   "source": [
    "addrxy = df2[['Address','X','Y']]\n",
    "\n",
    "addrxy = addrxy.drop_duplicates(subset = 'Address')\n",
    "addrxy = addrxy.sort_values(['Address'])\n",
    "addrxy.tail(10)"
   ]
  },
  {
   "cell_type": "code",
   "execution_count": 103,
   "metadata": {
    "collapsed": true
   },
   "outputs": [],
   "source": [
    "from sklearn.mixture import GaussianMixture\n",
    "\n",
    "gm1 = GaussianMixture(n_components = 12, n_init = 5)\n",
    "\n",
    "newgmm = gm1.fit(gmm2_df).predict(gmm2_df)\n",
    "gmm2_df['Addr_Group'] = newgmm\n",
    "gmm2_df['Address'] = gmm2_df.index"
   ]
  },
  {
   "cell_type": "code",
   "execution_count": 107,
   "metadata": {},
   "outputs": [
    {
     "name": "stdout",
     "output_type": "stream",
     "text": [
      "Category                                   Address  Addr_Group\n",
      "Address                                                       \n",
      "0 Block of LOMBARD ST        0 Block of LOMBARD ST          11\n",
      "100 Block of LOMBARD ST    100 Block of LOMBARD ST           4\n",
      "1000 Block of LOMBARD ST  1000 Block of LOMBARD ST          11\n",
      "1100 Block of LOMBARD ST  1100 Block of LOMBARD ST           4\n",
      "1200 Block of LOMBARD ST  1200 Block of LOMBARD ST          11\n",
      "1300 Block of LOMBARD ST  1300 Block of LOMBARD ST          11\n",
      "1400 Block of LOMBARD ST  1400 Block of LOMBARD ST           6\n",
      "1500 Block of LOMBARD ST  1500 Block of LOMBARD ST           6\n",
      "1600 Block of LOMBARD ST  1600 Block of LOMBARD ST           4\n",
      "1700 Block of LOMBARD ST  1700 Block of LOMBARD ST           6 \n",
      "\n",
      "11    18367\n",
      "6      2013\n",
      "4      1979\n",
      "10      458\n",
      "0       347\n",
      "3        12\n",
      "5        10\n",
      "9         1\n",
      "8         1\n",
      "7         1\n",
      "2         1\n",
      "1         1\n",
      "Name: Addr_Group, dtype: int64\n"
     ]
    }
   ],
   "source": [
    "newgroup = gmm2_df[['Address','Addr_Group']]\n",
    "\n",
    "print (newgroup[newgroup.Address.str.contains('LOMBARD')].head(10), '\\n')\n",
    "print (newgroup.Addr_Group.value_counts())"
   ]
  },
  {
   "cell_type": "code",
   "execution_count": 108,
   "metadata": {
    "collapsed": true
   },
   "outputs": [],
   "source": [
    "# create a map\n",
    "mapper = newgroup.set_index('Address')['Addr_Group']\n",
    "df2['Addr_Group'] = df2['Address'].map(mapper)"
   ]
  },
  {
   "cell_type": "code",
   "execution_count": 109,
   "metadata": {},
   "outputs": [
    {
     "data": {
      "text/html": [
       "<div>\n",
       "<style scoped>\n",
       "    .dataframe tbody tr th:only-of-type {\n",
       "        vertical-align: middle;\n",
       "    }\n",
       "\n",
       "    .dataframe tbody tr th {\n",
       "        vertical-align: top;\n",
       "    }\n",
       "\n",
       "    .dataframe thead th {\n",
       "        text-align: right;\n",
       "    }\n",
       "</style>\n",
       "<table border=\"1\" class=\"dataframe\">\n",
       "  <thead>\n",
       "    <tr style=\"text-align: right;\">\n",
       "      <th></th>\n",
       "      <th>Dates</th>\n",
       "      <th>Category</th>\n",
       "      <th>DayOfWeek</th>\n",
       "      <th>PdDistrict</th>\n",
       "      <th>Address</th>\n",
       "      <th>X</th>\n",
       "      <th>Y</th>\n",
       "      <th>DOW</th>\n",
       "      <th>DOM</th>\n",
       "      <th>MONTH</th>\n",
       "      <th>HOUR</th>\n",
       "      <th>YEAR</th>\n",
       "      <th>Addr_Group</th>\n",
       "    </tr>\n",
       "  </thead>\n",
       "  <tbody>\n",
       "    <tr>\n",
       "      <th>0</th>\n",
       "      <td>2015-05-13 23:53:00</td>\n",
       "      <td>WARRANTS</td>\n",
       "      <td>Wednesday</td>\n",
       "      <td>NORTHERN</td>\n",
       "      <td>OAK ST / LAGUNA ST</td>\n",
       "      <td>-122.425892</td>\n",
       "      <td>37.774599</td>\n",
       "      <td>2</td>\n",
       "      <td>13</td>\n",
       "      <td>5</td>\n",
       "      <td>23</td>\n",
       "      <td>2015</td>\n",
       "      <td>11</td>\n",
       "    </tr>\n",
       "    <tr>\n",
       "      <th>1</th>\n",
       "      <td>2015-05-13 23:53:00</td>\n",
       "      <td>OTHER OFFENSES</td>\n",
       "      <td>Wednesday</td>\n",
       "      <td>NORTHERN</td>\n",
       "      <td>OAK ST / LAGUNA ST</td>\n",
       "      <td>-122.425892</td>\n",
       "      <td>37.774599</td>\n",
       "      <td>2</td>\n",
       "      <td>13</td>\n",
       "      <td>5</td>\n",
       "      <td>23</td>\n",
       "      <td>2015</td>\n",
       "      <td>11</td>\n",
       "    </tr>\n",
       "    <tr>\n",
       "      <th>2</th>\n",
       "      <td>2015-05-13 23:33:00</td>\n",
       "      <td>OTHER OFFENSES</td>\n",
       "      <td>Wednesday</td>\n",
       "      <td>NORTHERN</td>\n",
       "      <td>VANNESS AV / GREENWICH ST</td>\n",
       "      <td>-122.424363</td>\n",
       "      <td>37.800414</td>\n",
       "      <td>2</td>\n",
       "      <td>13</td>\n",
       "      <td>5</td>\n",
       "      <td>23</td>\n",
       "      <td>2015</td>\n",
       "      <td>11</td>\n",
       "    </tr>\n",
       "    <tr>\n",
       "      <th>3</th>\n",
       "      <td>2015-05-13 23:30:00</td>\n",
       "      <td>LARCENY/THEFT</td>\n",
       "      <td>Wednesday</td>\n",
       "      <td>NORTHERN</td>\n",
       "      <td>1500 Block of LOMBARD ST</td>\n",
       "      <td>-122.426995</td>\n",
       "      <td>37.800873</td>\n",
       "      <td>2</td>\n",
       "      <td>13</td>\n",
       "      <td>5</td>\n",
       "      <td>23</td>\n",
       "      <td>2015</td>\n",
       "      <td>6</td>\n",
       "    </tr>\n",
       "    <tr>\n",
       "      <th>4</th>\n",
       "      <td>2015-05-13 23:30:00</td>\n",
       "      <td>LARCENY/THEFT</td>\n",
       "      <td>Wednesday</td>\n",
       "      <td>PARK</td>\n",
       "      <td>100 Block of BRODERICK ST</td>\n",
       "      <td>-122.438738</td>\n",
       "      <td>37.771541</td>\n",
       "      <td>2</td>\n",
       "      <td>13</td>\n",
       "      <td>5</td>\n",
       "      <td>23</td>\n",
       "      <td>2015</td>\n",
       "      <td>4</td>\n",
       "    </tr>\n",
       "  </tbody>\n",
       "</table>\n",
       "</div>"
      ],
      "text/plain": [
       "                Dates        Category  DayOfWeek PdDistrict  \\\n",
       "0 2015-05-13 23:53:00        WARRANTS  Wednesday   NORTHERN   \n",
       "1 2015-05-13 23:53:00  OTHER OFFENSES  Wednesday   NORTHERN   \n",
       "2 2015-05-13 23:33:00  OTHER OFFENSES  Wednesday   NORTHERN   \n",
       "3 2015-05-13 23:30:00   LARCENY/THEFT  Wednesday   NORTHERN   \n",
       "4 2015-05-13 23:30:00   LARCENY/THEFT  Wednesday       PARK   \n",
       "\n",
       "                     Address           X          Y  DOW  DOM  MONTH  HOUR  \\\n",
       "0         OAK ST / LAGUNA ST -122.425892  37.774599    2   13      5    23   \n",
       "1         OAK ST / LAGUNA ST -122.425892  37.774599    2   13      5    23   \n",
       "2  VANNESS AV / GREENWICH ST -122.424363  37.800414    2   13      5    23   \n",
       "3   1500 Block of LOMBARD ST -122.426995  37.800873    2   13      5    23   \n",
       "4  100 Block of BRODERICK ST -122.438738  37.771541    2   13      5    23   \n",
       "\n",
       "   YEAR  Addr_Group  \n",
       "0  2015          11  \n",
       "1  2015          11  \n",
       "2  2015          11  \n",
       "3  2015           6  \n",
       "4  2015           4  "
      ]
     },
     "execution_count": 109,
     "metadata": {},
     "output_type": "execute_result"
    }
   ],
   "source": [
    "df2.head()"
   ]
  },
  {
   "cell_type": "code",
   "execution_count": 110,
   "metadata": {},
   "outputs": [
    {
     "data": {
      "text/html": [
       "<div>\n",
       "<style scoped>\n",
       "    .dataframe tbody tr th:only-of-type {\n",
       "        vertical-align: middle;\n",
       "    }\n",
       "\n",
       "    .dataframe tbody tr th {\n",
       "        vertical-align: top;\n",
       "    }\n",
       "\n",
       "    .dataframe thead th {\n",
       "        text-align: right;\n",
       "    }\n",
       "</style>\n",
       "<table border=\"1\" class=\"dataframe\">\n",
       "  <thead>\n",
       "    <tr style=\"text-align: right;\">\n",
       "      <th></th>\n",
       "      <th>BAYVIEW</th>\n",
       "      <th>CENTRAL</th>\n",
       "      <th>INGLESIDE</th>\n",
       "      <th>MISSION</th>\n",
       "      <th>NORTHERN</th>\n",
       "      <th>PARK</th>\n",
       "      <th>RICHMOND</th>\n",
       "      <th>SOUTHERN</th>\n",
       "      <th>TARAVAL</th>\n",
       "      <th>TENDERLOIN</th>\n",
       "      <th>...</th>\n",
       "      <th>Addr_2</th>\n",
       "      <th>Addr_3</th>\n",
       "      <th>Addr_4</th>\n",
       "      <th>Addr_5</th>\n",
       "      <th>Addr_6</th>\n",
       "      <th>Addr_7</th>\n",
       "      <th>Addr_8</th>\n",
       "      <th>Addr_9</th>\n",
       "      <th>Addr_10</th>\n",
       "      <th>Addr_11</th>\n",
       "    </tr>\n",
       "  </thead>\n",
       "  <tbody>\n",
       "    <tr>\n",
       "      <th>0</th>\n",
       "      <td>0</td>\n",
       "      <td>0</td>\n",
       "      <td>0</td>\n",
       "      <td>0</td>\n",
       "      <td>1</td>\n",
       "      <td>0</td>\n",
       "      <td>0</td>\n",
       "      <td>0</td>\n",
       "      <td>0</td>\n",
       "      <td>0</td>\n",
       "      <td>...</td>\n",
       "      <td>0</td>\n",
       "      <td>0</td>\n",
       "      <td>0</td>\n",
       "      <td>0</td>\n",
       "      <td>0</td>\n",
       "      <td>0</td>\n",
       "      <td>0</td>\n",
       "      <td>0</td>\n",
       "      <td>0</td>\n",
       "      <td>1</td>\n",
       "    </tr>\n",
       "    <tr>\n",
       "      <th>1</th>\n",
       "      <td>0</td>\n",
       "      <td>0</td>\n",
       "      <td>0</td>\n",
       "      <td>0</td>\n",
       "      <td>1</td>\n",
       "      <td>0</td>\n",
       "      <td>0</td>\n",
       "      <td>0</td>\n",
       "      <td>0</td>\n",
       "      <td>0</td>\n",
       "      <td>...</td>\n",
       "      <td>0</td>\n",
       "      <td>0</td>\n",
       "      <td>0</td>\n",
       "      <td>0</td>\n",
       "      <td>0</td>\n",
       "      <td>0</td>\n",
       "      <td>0</td>\n",
       "      <td>0</td>\n",
       "      <td>0</td>\n",
       "      <td>1</td>\n",
       "    </tr>\n",
       "    <tr>\n",
       "      <th>2</th>\n",
       "      <td>0</td>\n",
       "      <td>0</td>\n",
       "      <td>0</td>\n",
       "      <td>0</td>\n",
       "      <td>1</td>\n",
       "      <td>0</td>\n",
       "      <td>0</td>\n",
       "      <td>0</td>\n",
       "      <td>0</td>\n",
       "      <td>0</td>\n",
       "      <td>...</td>\n",
       "      <td>0</td>\n",
       "      <td>0</td>\n",
       "      <td>0</td>\n",
       "      <td>0</td>\n",
       "      <td>0</td>\n",
       "      <td>0</td>\n",
       "      <td>0</td>\n",
       "      <td>0</td>\n",
       "      <td>0</td>\n",
       "      <td>1</td>\n",
       "    </tr>\n",
       "    <tr>\n",
       "      <th>3</th>\n",
       "      <td>0</td>\n",
       "      <td>0</td>\n",
       "      <td>0</td>\n",
       "      <td>0</td>\n",
       "      <td>1</td>\n",
       "      <td>0</td>\n",
       "      <td>0</td>\n",
       "      <td>0</td>\n",
       "      <td>0</td>\n",
       "      <td>0</td>\n",
       "      <td>...</td>\n",
       "      <td>0</td>\n",
       "      <td>0</td>\n",
       "      <td>0</td>\n",
       "      <td>0</td>\n",
       "      <td>1</td>\n",
       "      <td>0</td>\n",
       "      <td>0</td>\n",
       "      <td>0</td>\n",
       "      <td>0</td>\n",
       "      <td>0</td>\n",
       "    </tr>\n",
       "    <tr>\n",
       "      <th>4</th>\n",
       "      <td>0</td>\n",
       "      <td>0</td>\n",
       "      <td>0</td>\n",
       "      <td>0</td>\n",
       "      <td>0</td>\n",
       "      <td>1</td>\n",
       "      <td>0</td>\n",
       "      <td>0</td>\n",
       "      <td>0</td>\n",
       "      <td>0</td>\n",
       "      <td>...</td>\n",
       "      <td>0</td>\n",
       "      <td>0</td>\n",
       "      <td>1</td>\n",
       "      <td>0</td>\n",
       "      <td>0</td>\n",
       "      <td>0</td>\n",
       "      <td>0</td>\n",
       "      <td>0</td>\n",
       "      <td>0</td>\n",
       "      <td>0</td>\n",
       "    </tr>\n",
       "  </tbody>\n",
       "</table>\n",
       "<p>5 rows × 109 columns</p>\n",
       "</div>"
      ],
      "text/plain": [
       "   BAYVIEW  CENTRAL  INGLESIDE  MISSION  NORTHERN  PARK  RICHMOND  SOUTHERN  \\\n",
       "0        0        0          0        0         1     0         0         0   \n",
       "1        0        0          0        0         1     0         0         0   \n",
       "2        0        0          0        0         1     0         0         0   \n",
       "3        0        0          0        0         1     0         0         0   \n",
       "4        0        0          0        0         0     1         0         0   \n",
       "\n",
       "   TARAVAL  TENDERLOIN   ...     Addr_2  Addr_3  Addr_4  Addr_5  Addr_6  \\\n",
       "0        0           0   ...          0       0       0       0       0   \n",
       "1        0           0   ...          0       0       0       0       0   \n",
       "2        0           0   ...          0       0       0       0       0   \n",
       "3        0           0   ...          0       0       0       0       1   \n",
       "4        0           0   ...          0       0       1       0       0   \n",
       "\n",
       "   Addr_7  Addr_8  Addr_9  Addr_10  Addr_11  \n",
       "0       0       0       0        0        1  \n",
       "1       0       0       0        0        1  \n",
       "2       0       0       0        0        1  \n",
       "3       0       0       0        0        0  \n",
       "4       0       0       0        0        0  \n",
       "\n",
       "[5 rows x 109 columns]"
      ]
     },
     "execution_count": 110,
     "metadata": {},
     "output_type": "execute_result"
    }
   ],
   "source": [
    "df_PdD = pd.get_dummies(df2.PdDistrict)\n",
    "df_DOM = pd.get_dummies(df2.DOM, prefix = 'DofM')\n",
    "df_DOW = pd.get_dummies(df2.DOW, prefix = 'DofW')\n",
    "df_MONTH = pd.get_dummies(df2.MONTH, prefix = 'Month')\n",
    "df_HOUR = pd.get_dummies(df2.HOUR, prefix = 'Hour')\n",
    "df_YEAR = pd.get_dummies(df2.YEAR, prefix = 'Hour')\n",
    "df_Addr_Gr = pd.get_dummies(df2.Addr_Group, prefix = 'Addr')\n",
    "\n",
    "new = pd.concat([df_PdD, df_DOM], axis = 1)\n",
    "new = pd.concat([new, df_DOW], axis = 1)\n",
    "new = pd.concat([new, df_MONTH], axis = 1)\n",
    "new = pd.concat([new, df_HOUR], axis = 1)\n",
    "new = pd.concat([new, df_YEAR], axis = 1)\n",
    "new = pd.concat([new, df_Addr_Gr], axis = 1)\n",
    "    \n",
    "new.head()"
   ]
  },
  {
   "cell_type": "code",
   "execution_count": 111,
   "metadata": {
    "collapsed": true
   },
   "outputs": [],
   "source": [
    "X_train, X_dev, y_train, y_dev = train_test_split(new, df2.Category, test_size = 0.3, random_state= 42)"
   ]
  },
  {
   "cell_type": "code",
   "execution_count": 112,
   "metadata": {},
   "outputs": [
    {
     "name": "stdout",
     "output_type": "stream",
     "text": [
      "Wall time: 36.5 s\n",
      "Wall time: 2.63 s\n",
      "                             precision    recall  f1-score   support\n",
      "\n",
      "                      ARSON       0.05      0.03      0.03       477\n",
      "                    ASSAULT       0.17      0.19      0.18     22944\n",
      "                 BAD CHECKS       0.00      0.00      0.00       124\n",
      "                    BRIBERY       0.00      0.00      0.00        92\n",
      "                   BURGLARY       0.09      0.07      0.08     11080\n",
      "         DISORDERLY CONDUCT       0.03      0.03      0.03      1253\n",
      "DRIVING UNDER THE INFLUENCE       0.03      0.02      0.02       661\n",
      "              DRUG/NARCOTIC       0.31      0.36      0.33     16297\n",
      "                DRUNKENNESS       0.01      0.01      0.01      1288\n",
      "               EMBEZZLEMENT       0.00      0.00      0.00       339\n",
      "                  EXTORTION       0.00      0.00      0.00        81\n",
      "            FAMILY OFFENSES       0.06      0.04      0.05       152\n",
      "     FORGERY/COUNTERFEITING       0.10      0.08      0.09      3120\n",
      "                      FRAUD       0.06      0.05      0.06      4902\n",
      "                   GAMBLING       0.13      0.07      0.10        40\n",
      "                 KIDNAPPING       0.03      0.03      0.03       679\n",
      "              LARCENY/THEFT       0.32      0.42      0.37     52492\n",
      "                LIQUOR LAWS       0.08      0.07      0.07       548\n",
      "                  LOITERING       0.18      0.15      0.16       367\n",
      "             MISSING PERSON       0.42      0.41      0.42      7782\n",
      "               NON-CRIMINAL       0.17      0.15      0.16     27745\n",
      "             OTHER OFFENSES       0.20      0.22      0.21     37759\n",
      "    PORNOGRAPHY/OBSCENE MAT       0.00      0.00      0.00         6\n",
      "               PROSTITUTION       0.46      0.51      0.48      2301\n",
      "          RECOVERED VEHICLE       0.02      0.01      0.01       895\n",
      "                    ROBBERY       0.07      0.04      0.05      6827\n",
      "                    RUNAWAY       0.12      0.08      0.09       596\n",
      "            SECONDARY CODES       0.01      0.01      0.01      3030\n",
      "      SEX OFFENSES FORCIBLE       0.18      0.13      0.15      1309\n",
      "  SEX OFFENSES NON FORCIBLE       0.00      0.00      0.00        55\n",
      "            STOLEN PROPERTY       0.02      0.01      0.02      1403\n",
      "                    SUICIDE       0.01      0.01      0.01       142\n",
      "             SUSPICIOUS OCC       0.06      0.04      0.05      9350\n",
      "                       TREA       0.00      0.00      0.00         3\n",
      "                   TRESPASS       0.03      0.02      0.02      2189\n",
      "                  VANDALISM       0.10      0.07      0.08     13489\n",
      "              VEHICLE THEFT       0.36      0.34      0.35     16328\n",
      "                   WARRANTS       0.11      0.09      0.10     12618\n",
      "                WEAPON LAWS       0.15      0.11      0.12      2632\n",
      "\n",
      "                avg / total       0.21      0.23      0.22    263395\n",
      "\n"
     ]
    },
    {
     "name": "stderr",
     "output_type": "stream",
     "text": [
      "C:\\Users\\DCRH\\Anaconda3\\lib\\site-packages\\sklearn\\metrics\\classification.py:1135: UndefinedMetricWarning: Precision and F-score are ill-defined and being set to 0.0 in labels with no predicted samples.\n",
      "  'precision', 'predicted', average, warn_for)\n"
     ]
    }
   ],
   "source": [
    "rf1 = RandomForestClassifier()\n",
    "%time rf1.fit(X_train, y_train)\n",
    "%time y_pred = rf1.predict(X_dev)\n",
    "print (metrics.classification_report(y_dev, y_pred))\n",
    "# print (metrics.log_loss(y_dev, y_pred))"
   ]
  },
  {
   "cell_type": "code",
   "execution_count": 113,
   "metadata": {},
   "outputs": [
    {
     "name": "stdout",
     "output_type": "stream",
     "text": [
      "                             precision    recall  f1-score   support\n",
      "\n",
      "                      ARSON       0.00      0.00      0.00       477\n",
      "                    ASSAULT       0.18      0.06      0.09     22944\n",
      "                 BAD CHECKS       0.00      0.00      0.00       124\n",
      "                    BRIBERY       0.00      0.00      0.00        92\n",
      "                   BURGLARY       0.18      0.00      0.01     11080\n",
      "         DISORDERLY CONDUCT       0.00      0.00      0.00      1253\n",
      "DRIVING UNDER THE INFLUENCE       0.00      0.00      0.00       661\n",
      "              DRUG/NARCOTIC       0.28      0.34      0.31     16297\n",
      "                DRUNKENNESS       0.00      0.00      0.00      1288\n",
      "               EMBEZZLEMENT       0.00      0.00      0.00       339\n",
      "                  EXTORTION       0.00      0.00      0.00        81\n",
      "            FAMILY OFFENSES       0.00      0.00      0.00       152\n",
      "     FORGERY/COUNTERFEITING       0.20      0.00      0.00      3120\n",
      "                      FRAUD       0.00      0.00      0.00      4902\n",
      "                   GAMBLING       0.00      0.00      0.00        40\n",
      "                 KIDNAPPING       0.00      0.00      0.00       679\n",
      "              LARCENY/THEFT       0.27      0.74      0.39     52492\n",
      "                LIQUOR LAWS       0.00      0.00      0.00       548\n",
      "                  LOITERING       0.39      0.02      0.05       367\n",
      "             MISSING PERSON       0.29      0.25      0.27      7782\n",
      "               NON-CRIMINAL       0.20      0.07      0.11     27745\n",
      "             OTHER OFFENSES       0.19      0.30      0.23     37759\n",
      "    PORNOGRAPHY/OBSCENE MAT       0.00      0.00      0.00         6\n",
      "               PROSTITUTION       0.30      0.58      0.40      2301\n",
      "          RECOVERED VEHICLE       0.00      0.00      0.00       895\n",
      "                    ROBBERY       0.00      0.00      0.00      6827\n",
      "                    RUNAWAY       0.00      0.00      0.00       596\n",
      "            SECONDARY CODES       0.00      0.00      0.00      3030\n",
      "      SEX OFFENSES FORCIBLE       0.00      0.00      0.00      1309\n",
      "  SEX OFFENSES NON FORCIBLE       0.00      0.00      0.00        55\n",
      "            STOLEN PROPERTY       0.00      0.00      0.00      1403\n",
      "                    SUICIDE       0.00      0.00      0.00       142\n",
      "             SUSPICIOUS OCC       0.00      0.00      0.00      9350\n",
      "                       TREA       0.00      0.00      0.00         3\n",
      "                   TRESPASS       0.12      0.00      0.00      2189\n",
      "                  VANDALISM       0.09      0.00      0.00     13489\n",
      "              VEHICLE THEFT       0.24      0.20      0.22     16328\n",
      "                   WARRANTS       0.00      0.00      0.00     12618\n",
      "                WEAPON LAWS       0.00      0.00      0.00      2632\n",
      "\n",
      "                avg / total       0.18      0.25      0.18    263395\n",
      "\n"
     ]
    },
    {
     "name": "stderr",
     "output_type": "stream",
     "text": [
      "C:\\Users\\DCRH\\Anaconda3\\lib\\site-packages\\sklearn\\metrics\\classification.py:1135: UndefinedMetricWarning: Precision and F-score are ill-defined and being set to 0.0 in labels with no predicted samples.\n",
      "  'precision', 'predicted', average, warn_for)\n"
     ]
    }
   ],
   "source": [
    "lr = LogisticRegression( )\n",
    "lr.fit(X_train, y_train)\n",
    "lr.predict(X_dev)\n",
    "print (metrics.classification_report(y_dev, lr.predict(X_dev)))"
   ]
  },
  {
   "cell_type": "markdown",
   "metadata": {},
   "source": [
    "## CREATE OUTPUT FOR KAGGLE"
   ]
  },
  {
   "cell_type": "code",
   "execution_count": 115,
   "metadata": {
    "collapsed": true
   },
   "outputs": [],
   "source": [
    "# def process_data(df):\n",
    "#     df['DOW'] = df.Dates.dt.weekday\n",
    "#     df['DOM'] = df.Dates.dt.day\n",
    "#     df['MONTH'] = df.Dates.dt.month\n",
    "#     df['HOUR'] = df.Dates.dt.hour\n",
    "    \n",
    "#     df_PdD = pd.get_dummies(df.PdDistrict)\n",
    "#     df_DOM = pd.get_dummies(df.DOM, prefix = 'DofM')\n",
    "#     df_DOW = pd.get_dummies(df.DOW, prefix = 'DofW')\n",
    "#     df_MONTH = pd.get_dummies(df.MONTH, prefix = 'Month')\n",
    "#     df_HOUR = pd.get_dummies(df.HOUR, prefix = 'Hour')\n",
    "\n",
    "#     new = pd.concat([df_PdD, df_DOM], axis = 1)\n",
    "#     new = pd.concat([new, df_DOW], axis = 1)\n",
    "#     new = pd.concat([new, df_MONTH], axis = 1)\n",
    "#     new = pd.concat([new, df_HOUR], axis = 1)\n",
    "    \n",
    "#     return new"
   ]
  },
  {
   "cell_type": "code",
   "execution_count": 116,
   "metadata": {
    "scrolled": true
   },
   "outputs": [],
   "source": [
    "# df_test = pd.read_csv('test.csv', parse_dates=['Dates'])\n",
    "# df_test.head()"
   ]
  },
  {
   "cell_type": "code",
   "execution_count": 117,
   "metadata": {
    "scrolled": true
   },
   "outputs": [],
   "source": [
    "# Process test data and predict outcomes\n",
    "\n",
    "# test = process_data(df_test)\n",
    "# results = rf2.predict(test)\n",
    "\n",
    "# results[0:5]"
   ]
  },
  {
   "cell_type": "code",
   "execution_count": null,
   "metadata": {
    "collapsed": true
   },
   "outputs": [],
   "source": []
  },
  {
   "cell_type": "code",
   "execution_count": 118,
   "metadata": {
    "collapsed": true
   },
   "outputs": [],
   "source": [
    "# df_results = pd.get_dummies(results)\n",
    "# df_results.to_csv('submission1_1_vhe.csv')"
   ]
  },
  {
   "cell_type": "code",
   "execution_count": null,
   "metadata": {
    "collapsed": true
   },
   "outputs": [],
   "source": []
  }
 ],
 "metadata": {
  "anaconda-cloud": {},
  "kernelspec": {
   "display_name": "Python [default]",
   "language": "python",
   "name": "python3"
  },
  "language_info": {
   "codemirror_mode": {
    "name": "ipython",
    "version": 3
   },
   "file_extension": ".py",
   "mimetype": "text/x-python",
   "name": "python",
   "nbconvert_exporter": "python",
   "pygments_lexer": "ipython3",
   "version": "3.5.3"
  }
 },
 "nbformat": 4,
 "nbformat_minor": 2
}
